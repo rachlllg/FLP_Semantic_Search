{
 "cells": [
  {
   "cell_type": "markdown",
   "metadata": {
    "id": "zPcVCVQUW1Np"
   },
   "source": [
    "# Finetune answerdotai/ModernBERT-base with chunked_opinion:relevant:irrelevant query triples\n",
    "\n",
    "1. The opinions were pre-chunked to at most 8192 tokens\n",
    "2. The queries were generated using gpt-4o\n",
    "3. The finetuning is run in Google Colab with a T4 GPU"
   ]
  },
  {
   "cell_type": "markdown",
   "metadata": {
    "id": "vH4fjWfFRMiN"
   },
   "source": [
    "# Import Libraries"
   ]
  },
  {
   "cell_type": "code",
   "execution_count": 1,
   "metadata": {
    "colab": {
     "base_uri": "https://localhost:8080/"
    },
    "executionInfo": {
     "elapsed": 152823,
     "status": "ok",
     "timestamp": 1741059303142,
     "user": {
      "displayName": "Rachel Gao",
      "userId": "08712295941136164624"
     },
     "user_tz": 480
    },
    "id": "92JeuZu_aAem",
    "outputId": "03c471b7-7a5c-45e1-917b-6149800bb974"
   },
   "outputs": [],
   "source": [
    "import pandas as pd\n",
    "\n",
    "#%pip install datasets -q\n",
    "from datasets import Dataset\n",
    "\n",
    "#%pip install flash-attn\n",
    "from sentence_transformers import (\n",
    "    SentenceTransformer,\n",
    "    SentenceTransformerTrainer,\n",
    "    SentenceTransformerTrainingArguments,\n",
    "    SentenceTransformerModelCardData,\n",
    ")\n",
    "from sentence_transformers.losses import MultipleNegativesRankingLoss\n",
    "from sentence_transformers.training_args import BatchSamplers\n",
    "from sentence_transformers.evaluation import TripletEvaluator"
   ]
  },
  {
   "cell_type": "code",
   "execution_count": 2,
   "metadata": {},
   "outputs": [
    {
     "name": "stdout",
     "output_type": "stream",
     "text": [
      "tensor([0.], device='cuda:0')\n",
      "True\n",
      "0\n"
     ]
    }
   ],
   "source": [
    "import torch\n",
    "\n",
    "print(torch.zeros(1).cuda())\n",
    "print(torch.cuda.is_available())\n",
    "print(torch.cuda.current_device())\n",
    "\n",
    "torch.set_float32_matmul_precision('high')"
   ]
  },
  {
   "cell_type": "markdown",
   "metadata": {
    "id": "h8QVVtRrSxV1"
   },
   "source": [
    "# Load the data"
   ]
  },
  {
   "cell_type": "code",
   "execution_count": 3,
   "metadata": {},
   "outputs": [],
   "source": [
    "path = \"\""
   ]
  },
  {
   "cell_type": "code",
   "execution_count": 4,
   "metadata": {
    "id": "N1ixjO6MaAhM"
   },
   "outputs": [],
   "source": [
    "train = pd.read_csv(f\"{path}outputs/5.finetune_train_8192.csv\")\n",
    "val = pd.read_csv(f\"{path}outputs/5.finetune_val_8192.csv\")"
   ]
  },
  {
   "cell_type": "markdown",
   "metadata": {
    "id": "NQjbIxdBuN76"
   },
   "source": [
    "# Take a look at the token count distribution"
   ]
  },
  {
   "cell_type": "code",
   "execution_count": 5,
   "metadata": {
    "colab": {
     "base_uri": "https://localhost:8080/",
     "height": 335
    },
    "executionInfo": {
     "elapsed": 43,
     "status": "ok",
     "timestamp": 1741059325878,
     "user": {
      "displayName": "Rachel Gao",
      "userId": "08712295941136164624"
     },
     "user_tz": 480
    },
    "id": "AUeyWh0_uM6G",
    "outputId": "d24be710-5919-4093-8d54-9a6ab7183707"
   },
   "outputs": [
    {
     "data": {
      "text/plain": [
       "count     351.000000\n",
       "mean     3019.421652\n",
       "std      2468.817057\n",
       "min        68.000000\n",
       "25%       936.000000\n",
       "50%      2303.000000\n",
       "75%      4599.500000\n",
       "max      7800.000000\n",
       "Name: chunk_size, dtype: float64"
      ]
     },
     "execution_count": 5,
     "metadata": {},
     "output_type": "execute_result"
    }
   ],
   "source": [
    "train[\"chunk_size\"].describe()"
   ]
  },
  {
   "cell_type": "code",
   "execution_count": 6,
   "metadata": {
    "colab": {
     "base_uri": "https://localhost:8080/",
     "height": 335
    },
    "executionInfo": {
     "elapsed": 14,
     "status": "ok",
     "timestamp": 1741058949910,
     "user": {
      "displayName": "Rachel Gao",
      "userId": "08712295941136164624"
     },
     "user_tz": 480
    },
    "id": "rDQbc7T4uM8s",
    "outputId": "83bbb338-a0ae-472b-b215-bda12eff3d97"
   },
   "outputs": [
    {
     "data": {
      "text/plain": [
       "count      95.000000\n",
       "mean     1809.242105\n",
       "std      1663.952822\n",
       "min        79.000000\n",
       "25%       578.500000\n",
       "50%      1405.000000\n",
       "75%      2454.500000\n",
       "max      7772.000000\n",
       "Name: chunk_size, dtype: float64"
      ]
     },
     "execution_count": 6,
     "metadata": {},
     "output_type": "execute_result"
    }
   ],
   "source": [
    "val[\"chunk_size\"].describe()"
   ]
  },
  {
   "cell_type": "markdown",
   "metadata": {
    "id": "LQXM6KLoNo7j"
   },
   "source": [
    "# Generate dataset objects"
   ]
  },
  {
   "cell_type": "code",
   "execution_count": 7,
   "metadata": {
    "id": "xFuOlbFfaGFD"
   },
   "outputs": [],
   "source": [
    "cols = [\"chunked_opinion\", \"relevant\", \"irrelevant\"]\n",
    "train = train[cols]\n",
    "val = val[cols]"
   ]
  },
  {
   "cell_type": "code",
   "execution_count": 8,
   "metadata": {
    "id": "9QR5LErZaNjJ"
   },
   "outputs": [],
   "source": [
    "renames = {\"chunked_opinion\":\"anchor\", \"relevant\":\"positive\", \"irrelevant\":\"negative\"}\n",
    "train = train.rename(columns=renames)\n",
    "val = val.rename(columns=renames)"
   ]
  },
  {
   "cell_type": "code",
   "execution_count": 9,
   "metadata": {
    "id": "1hryFojvaNrO"
   },
   "outputs": [],
   "source": [
    "train_dataset = Dataset.from_pandas(train, split=\"train\")\n",
    "eval_dataset = Dataset.from_pandas(val, split=\"test\")"
   ]
  },
  {
   "cell_type": "code",
   "execution_count": 10,
   "metadata": {
    "colab": {
     "base_uri": "https://localhost:8080/"
    },
    "executionInfo": {
     "elapsed": 11,
     "status": "ok",
     "timestamp": 1741059328973,
     "user": {
      "displayName": "Rachel Gao",
      "userId": "08712295941136164624"
     },
     "user_tz": 480
    },
    "id": "Xdy4pGdmaN3n",
    "outputId": "16f99c65-5b41-41fc-ceab-13060e69fc30"
   },
   "outputs": [
    {
     "data": {
      "text/plain": [
       "Dataset({\n",
       "    features: ['anchor', 'positive', 'negative'],\n",
       "    num_rows: 351\n",
       "})"
      ]
     },
     "execution_count": 10,
     "metadata": {},
     "output_type": "execute_result"
    }
   ],
   "source": [
    "train_dataset"
   ]
  },
  {
   "cell_type": "code",
   "execution_count": 11,
   "metadata": {
    "colab": {
     "base_uri": "https://localhost:8080/"
    },
    "executionInfo": {
     "elapsed": 3,
     "status": "ok",
     "timestamp": 1741059328977,
     "user": {
      "displayName": "Rachel Gao",
      "userId": "08712295941136164624"
     },
     "user_tz": 480
    },
    "id": "cx7gzqM5abYD",
    "outputId": "97350e2d-7d04-45dd-ea7d-9559f9e79cac"
   },
   "outputs": [
    {
     "data": {
      "text/plain": [
       "Dataset({\n",
       "    features: ['anchor', 'positive', 'negative'],\n",
       "    num_rows: 95\n",
       "})"
      ]
     },
     "execution_count": 11,
     "metadata": {},
     "output_type": "execute_result"
    }
   ],
   "source": [
    "eval_dataset"
   ]
  },
  {
   "cell_type": "markdown",
   "metadata": {
    "id": "THnxqgb3Ns23"
   },
   "source": [
    "# Train the model"
   ]
  },
  {
   "cell_type": "code",
   "execution_count": 12,
   "metadata": {
    "id": "7rucpCRyNurk"
   },
   "outputs": [],
   "source": [
    "BASE_MODEL = \"answerdotai/ModernBERT-base\"\n",
    "BASE_MODEL_NAME = BASE_MODEL.split(\"/\")[-1]"
   ]
  },
  {
   "cell_type": "code",
   "execution_count": 13,
   "metadata": {
    "colab": {
     "base_uri": "https://localhost:8080/"
    },
    "executionInfo": {
     "elapsed": 10585,
     "status": "ok",
     "timestamp": 1741059341968,
     "user": {
      "displayName": "Rachel Gao",
      "userId": "08712295941136164624"
     },
     "user_tz": 480
    },
    "id": "QwsN742RafEg",
    "outputId": "94e1d0c3-2f64-4d62-998f-f6c32f6cd514"
   },
   "outputs": [
    {
     "name": "stderr",
     "output_type": "stream",
     "text": [
      "No sentence-transformers model found with name answerdotai/ModernBERT-base. Creating a new one with mean pooling.\n"
     ]
    }
   ],
   "source": [
    "# Load the model\n",
    "model = SentenceTransformer(\n",
    "    BASE_MODEL,\n",
    "    model_card_data=SentenceTransformerModelCardData(\n",
    "        language=\"en\",\n",
    "        license=\"apache-2.0\",\n",
    "        model_name=f\"{BASE_MODEL_NAME} trained on triplets\",\n",
    "    )\n",
    ")\n",
    "\n",
    "# Define loss function\n",
    "loss = MultipleNegativesRankingLoss(model)"
   ]
  },
  {
   "cell_type": "code",
   "execution_count": 14,
   "metadata": {
    "colab": {
     "base_uri": "https://localhost:8080/"
    },
    "executionInfo": {
     "elapsed": 19,
     "status": "ok",
     "timestamp": 1741059355084,
     "user": {
      "displayName": "Rachel Gao",
      "userId": "08712295941136164624"
     },
     "user_tz": 480
    },
    "id": "fmB36Z7NOW1v",
    "outputId": "23d53bd8-8c06-48fb-92a8-23dd7a780d79"
   },
   "outputs": [
    {
     "data": {
      "text/plain": [
       "SentenceTransformer(\n",
       "  (0): Transformer({'max_seq_length': 8192, 'do_lower_case': False}) with Transformer model: ModernBertModel \n",
       "  (1): Pooling({'word_embedding_dimension': 768, 'pooling_mode_cls_token': False, 'pooling_mode_mean_tokens': True, 'pooling_mode_max_tokens': False, 'pooling_mode_mean_sqrt_len_tokens': False, 'pooling_mode_weightedmean_tokens': False, 'pooling_mode_lasttoken': False, 'include_prompt': True})\n",
       ")"
      ]
     },
     "execution_count": 14,
     "metadata": {},
     "output_type": "execute_result"
    }
   ],
   "source": [
    "model.to('cuda')"
   ]
  },
  {
   "cell_type": "code",
   "execution_count": 15,
   "metadata": {
    "id": "Xf97sziBa7iR"
   },
   "outputs": [],
   "source": [
    "# Specify training arguments\n",
    "args = SentenceTransformerTrainingArguments(\n",
    "    output_dir=f\"{path}models/{BASE_MODEL_NAME}\",\n",
    "    num_train_epochs=2,\n",
    "    per_device_train_batch_size=2,\n",
    "    per_device_eval_batch_size=2,\n",
    "    learning_rate=2e-5,\n",
    "    warmup_ratio=0.1,\n",
    "    fp16=True,\n",
    "    bf16=False,\n",
    "    #gradient_accumulation_steps=4,\n",
    "    #gradient_checkpointing=True,\n",
    "    batch_sampler=BatchSamplers.NO_DUPLICATES,  # MultipleNegativesRankingLoss benefits from no duplicate samples in a batch\n",
    "    # Optional tracking/debugging parameters:\n",
    "    eval_strategy=\"steps\",\n",
    "    eval_steps=100,\n",
    "    save_strategy=\"steps\",\n",
    "    save_steps=100,\n",
    "    save_total_limit=2,\n",
    "    report_to=\"none\"\n",
    "\n",
    ")"
   ]
  },
  {
   "cell_type": "code",
   "execution_count": 16,
   "metadata": {
    "colab": {
     "base_uri": "https://localhost:8080/",
     "height": 373
    },
    "executionInfo": {
     "elapsed": 4436,
     "status": "error",
     "timestamp": 1741059372766,
     "user": {
      "displayName": "Rachel Gao",
      "userId": "08712295941136164624"
     },
     "user_tz": 480
    },
    "id": "Tak7onQ_a9RH",
    "outputId": "155ed2ec-4852-4aca-e7cd-42a273dc704e"
   },
   "outputs": [
    {
     "data": {
      "text/plain": [
       "{'dev_cosine_accuracy': 0.9263157844543457}"
      ]
     },
     "execution_count": 16,
     "metadata": {},
     "output_type": "execute_result"
    }
   ],
   "source": [
    "# Evaluate the base model before finetuning\n",
    "dev_evaluator = TripletEvaluator(\n",
    "    anchors=eval_dataset[\"anchor\"],\n",
    "    positives=eval_dataset[\"positive\"],\n",
    "    negatives=eval_dataset[\"negative\"],\n",
    "    name=\"dev\",\n",
    ")\n",
    "dev_evaluator(model)"
   ]
  },
  {
   "cell_type": "code",
   "execution_count": 17,
   "metadata": {
    "id": "MZ4Dc9aea_xY"
   },
   "outputs": [
    {
     "data": {
      "application/vnd.jupyter.widget-view+json": {
       "model_id": "804066e8a3f748a986054d11425abf90",
       "version_major": 2,
       "version_minor": 0
      },
      "text/plain": [
       "Computing widget examples:   0%|          | 0/1 [00:00<?, ?example/s]"
      ]
     },
     "metadata": {},
     "output_type": "display_data"
    },
    {
     "data": {
      "text/html": [
       "\n",
       "    <div>\n",
       "      \n",
       "      <progress value='352' max='352' style='width:300px; height:20px; vertical-align: middle;'></progress>\n",
       "      [352/352 05:55, Epoch 2/2]\n",
       "    </div>\n",
       "    <table border=\"1\" class=\"dataframe\">\n",
       "  <thead>\n",
       " <tr style=\"text-align: left;\">\n",
       "      <th>Step</th>\n",
       "      <th>Training Loss</th>\n",
       "      <th>Validation Loss</th>\n",
       "      <th>Dev Cosine Accuracy</th>\n",
       "    </tr>\n",
       "  </thead>\n",
       "  <tbody>\n",
       "    <tr>\n",
       "      <td>100</td>\n",
       "      <td>No log</td>\n",
       "      <td>0.149814</td>\n",
       "      <td>1.000000</td>\n",
       "    </tr>\n",
       "    <tr>\n",
       "      <td>200</td>\n",
       "      <td>No log</td>\n",
       "      <td>0.124975</td>\n",
       "      <td>1.000000</td>\n",
       "    </tr>\n",
       "    <tr>\n",
       "      <td>300</td>\n",
       "      <td>No log</td>\n",
       "      <td>0.138629</td>\n",
       "      <td>1.000000</td>\n",
       "    </tr>\n",
       "  </tbody>\n",
       "</table><p>"
      ],
      "text/plain": [
       "<IPython.core.display.HTML object>"
      ]
     },
     "metadata": {},
     "output_type": "display_data"
    },
    {
     "data": {
      "text/plain": [
       "TrainOutput(global_step=352, training_loss=0.1721894307570024, metrics={'train_runtime': 357.1367, 'train_samples_per_second': 1.966, 'train_steps_per_second': 0.986, 'total_flos': 0.0, 'train_loss': 0.1721894307570024, 'epoch': 2.0})"
      ]
     },
     "execution_count": 17,
     "metadata": {},
     "output_type": "execute_result"
    }
   ],
   "source": [
    "# Create a trainer & train\n",
    "trainer = SentenceTransformerTrainer(\n",
    "    model=model,\n",
    "    args=args,\n",
    "    train_dataset=train_dataset,\n",
    "    eval_dataset=eval_dataset,\n",
    "    loss=loss,\n",
    "    evaluator=dev_evaluator,\n",
    "\n",
    ")\n",
    "trainer.train()"
   ]
  },
  {
   "cell_type": "code",
   "execution_count": 18,
   "metadata": {
    "id": "MSZePxm-bBSJ"
   },
   "outputs": [
    {
     "data": {
      "text/plain": [
       "{'dev_cosine_accuracy': 1.0}"
      ]
     },
     "execution_count": 18,
     "metadata": {},
     "output_type": "execute_result"
    }
   ],
   "source": [
    "# Evaluate the finetuned model\n",
    "dev_evaluator = TripletEvaluator(\n",
    "    anchors=eval_dataset[\"anchor\"],\n",
    "    positives=eval_dataset[\"positive\"],\n",
    "    negatives=eval_dataset[\"negative\"],\n",
    "    name=\"dev\",\n",
    ")\n",
    "dev_evaluator(model)"
   ]
  },
  {
   "cell_type": "code",
   "execution_count": 19,
   "metadata": {
    "id": "7AOmP4CDfsTe"
   },
   "outputs": [],
   "source": [
    "# Save the trained model\n",
    "model.save_pretrained(f\"{path}models/{BASE_MODEL_NAME}/final\")"
   ]
  },
  {
   "cell_type": "code",
   "execution_count": 21,
   "metadata": {
    "id": "HJ6BowLHUlkd"
   },
   "outputs": [
    {
     "data": {
      "application/vnd.jupyter.widget-view+json": {
       "model_id": "33a746d99cee4a91b7caf266a3a0b634",
       "version_major": 2,
       "version_minor": 0
      },
      "text/plain": [
       "model.safetensors:   0%|          | 0.00/596M [00:00<?, ?B/s]"
      ]
     },
     "metadata": {},
     "output_type": "display_data"
    },
    {
     "data": {
      "text/plain": [
       "'https://huggingface.co/rachelFLP/ModernBERT-base_finetune_8192/commit/efe3f37ad1f9986a54713094a4023d715b811cc5'"
      ]
     },
     "execution_count": 21,
     "metadata": {},
     "output_type": "execute_result"
    }
   ],
   "source": [
    "# Push the trained model to hub\n",
    "model.push_to_hub(f\"rachelFLP/{BASE_MODEL_NAME}_finetune_8192\", private=True)"
   ]
  }
 ],
 "metadata": {
  "accelerator": "GPU",
  "colab": {
   "authorship_tag": "ABX9TyP5epg0N+EzXzKjX43HvEOd",
   "collapsed_sections": [
    "LQXM6KLoNo7j"
   ],
   "gpuType": "T4",
   "provenance": [
    {
     "file_id": "1HbW-RXCTIaude6ZNmgCR16JzCuujeh0O",
     "timestamp": 1741028745881
    }
   ]
  },
  "kernelspec": {
   "display_name": "Python 3 (ipykernel)",
   "language": "python",
   "name": "python3"
  },
  "language_info": {
   "codemirror_mode": {
    "name": "ipython",
    "version": 3
   },
   "file_extension": ".py",
   "mimetype": "text/x-python",
   "name": "python",
   "nbconvert_exporter": "python",
   "pygments_lexer": "ipython3",
   "version": "3.11.11"
  }
 },
 "nbformat": 4,
 "nbformat_minor": 4
}
