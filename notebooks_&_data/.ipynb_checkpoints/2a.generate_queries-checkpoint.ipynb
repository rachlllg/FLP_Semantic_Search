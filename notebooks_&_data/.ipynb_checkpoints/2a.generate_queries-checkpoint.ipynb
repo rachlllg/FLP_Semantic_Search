{
 "cells": [
  {
   "cell_type": "markdown",
   "id": "fe626baf-3815-4b1c-bc9b-d3583df24c58",
   "metadata": {},
   "source": [
    "# Generate queries\n",
    "\n",
    "This notebook outlines the steps undertook to generate the queries to serve as datapoints to create query-result pairs for modeling & evaluation under the IR task formation."
   ]
  },
  {
   "cell_type": "markdown",
   "id": "4c095143-0c62-4673-8bf7-4915d54f538a",
   "metadata": {},
   "source": [
    "# Import libraries"
   ]
  },
  {
   "cell_type": "code",
   "execution_count": 1,
   "id": "94960c8b-7503-4262-ac54-3eb2ea2455ec",
   "metadata": {},
   "outputs": [],
   "source": [
    "#%pip install tiktoken -q\n",
    "#%pip install openai -q\n",
    "\n",
    "import time\n",
    "import json\n",
    "\n",
    "import numpy as np\n",
    "import pandas as pd\n",
    "\n",
    "import tiktoken\n",
    "from openai import OpenAI"
   ]
  },
  {
   "cell_type": "markdown",
   "id": "39515d59-a25d-438a-a0b8-c662cc59b99e",
   "metadata": {},
   "source": [
    "# Global variables"
   ]
  },
  {
   "cell_type": "code",
   "execution_count": 2,
   "id": "a6e8cf9a-65aa-403a-8c2d-19da31b79c68",
   "metadata": {},
   "outputs": [],
   "source": [
    "API_KEY = \"YOUR_API_KEY\"\n",
    "SYSTEM_PROMPT = '''\n",
    "Given a list of case law opinions, generate two search queries for each opinion. \n",
    "The 'relevant' search query should satisfy that the opinion is relevant for the query and satisfy all the query specifications, \n",
    "while the 'irrelevant' search query should be not relevant to the opinion. Return the queries in a form of a json. \n",
    "Here is an example: \n",
    "input = {'id 1': 'opinion 1', \n",
    "         'id 2': 'opinion 2', \n",
    "         'id 3': 'opinion 3'}, \n",
    "output = {'id 1': {'relevant': 'relevant 1', 'irrelevant': 'irrelevant 1'}, \n",
    "          'id 2': {'relevant': 'relevant 2', 'irrelevant': 'irrelevant 2'},\n",
    "          'id 3': {'relevant': 'relevant 3', 'irrelevant': 'irrelevant 3'}}\n",
    "'''"
   ]
  },
  {
   "cell_type": "markdown",
   "id": "bbd26bd4-c922-40b7-91f0-2de3f5fc4331",
   "metadata": {},
   "source": [
    "# Helper functions"
   ]
  },
  {
   "cell_type": "code",
   "execution_count": 3,
   "id": "092f4ccc-254d-4ddb-8b7f-fd201d749194",
   "metadata": {},
   "outputs": [],
   "source": [
    "# from openai cookbook: https://cookbook.openai.com/examples/how_to_count_tokens_with_tiktoken\n",
    "def num_tokens_from_messages(system_prompt, user_prompt, model=\"gpt-4o-mini-2024-07-18\"):\n",
    "    \"\"\"Return the number of tokens used by a list of messages.\"\"\"\n",
    "\n",
    "    messages = [{\"role\": \"system\", \"content\": f\"{system_prompt}\"},\n",
    "                {\"role\": \"user\", \"content\": f\"{user_prompt}\"}]\n",
    "    \n",
    "    try:\n",
    "        encoding = tiktoken.encoding_for_model(model)\n",
    "    except KeyError:\n",
    "        print(\"Warning: model not found. Using o200k_base encoding.\")\n",
    "        encoding = tiktoken.get_encoding(\"o200k_base\")\n",
    "    if model in {\n",
    "        \"gpt-3.5-turbo-0125\",\n",
    "        \"gpt-4-0314\",\n",
    "        \"gpt-4-32k-0314\",\n",
    "        \"gpt-4-0613\",\n",
    "        \"gpt-4-32k-0613\",\n",
    "        \"gpt-4o-mini-2024-07-18\",\n",
    "        \"gpt-4o-2024-08-06\"\n",
    "        }:\n",
    "        tokens_per_message = 3\n",
    "        tokens_per_name = 1\n",
    "    elif \"gpt-3.5-turbo\" in model:\n",
    "        print(\"Warning: gpt-3.5-turbo may update over time. Returning num tokens assuming gpt-3.5-turbo-0125.\")\n",
    "        return num_tokens_from_messages(messages, model=\"gpt-3.5-turbo-0125\")\n",
    "    elif \"gpt-4o-mini\" in model:\n",
    "        print(\"Warning: gpt-4o-mini may update over time. Returning num tokens assuming gpt-4o-mini-2024-07-18.\")\n",
    "        return num_tokens_from_messages(messages, model=\"gpt-4o-mini-2024-07-18\")\n",
    "    elif \"gpt-4o\" in model:\n",
    "        print(\"Warning: gpt-4o and gpt-4o-mini may update over time. Returning num tokens assuming gpt-4o-2024-08-06.\")\n",
    "        return num_tokens_from_messages(messages, model=\"gpt-4o-2024-08-06\")\n",
    "    elif \"gpt-4\" in model:\n",
    "        print(\"Warning: gpt-4 may update over time. Returning num tokens assuming gpt-4-0613.\")\n",
    "        return num_tokens_from_messages(messages, model=\"gpt-4-0613\")\n",
    "    else:\n",
    "        raise NotImplementedError(\n",
    "            f\"\"\"num_tokens_from_messages() is not implemented for model {model}.\"\"\"\n",
    "        )\n",
    "    num_tokens = 0\n",
    "    for message in messages:\n",
    "        num_tokens += tokens_per_message\n",
    "        for key, value in message.items():\n",
    "            num_tokens += len(encoding.encode(value))\n",
    "            if key == \"name\":\n",
    "                num_tokens += tokens_per_name\n",
    "    num_tokens += 3  # every reply is primed with <|start|>assistant<|message|>\n",
    "    return num_tokens"
   ]
  },
  {
   "cell_type": "code",
   "execution_count": 4,
   "id": "31ba1a6f-e53c-4685-8f93-cf079c21f800",
   "metadata": {},
   "outputs": [
    {
     "data": {
      "text/plain": [
       "'number of tokens used by system prompt: 194'"
      ]
     },
     "execution_count": 4,
     "metadata": {},
     "output_type": "execute_result"
    }
   ],
   "source": [
    "f\"number of tokens used by system prompt: {num_tokens_from_messages(' '.join(SYSTEM_PROMPT.split()), '')}\""
   ]
  },
  {
   "cell_type": "code",
   "execution_count": 25,
   "id": "d91d51b0-0687-42df-8b62-8d249a8c4cd0",
   "metadata": {},
   "outputs": [],
   "source": [
    "def group_opinions_by_tokens(df, \n",
    "                             system_prompt='',\n",
    "                             max_tokens=40000,\n",
    "                             max_size=6):\n",
    "    batches = {} \n",
    "    current_batch = []\n",
    "    current_batch_ids = []\n",
    "    current_token_count = 0\n",
    "\n",
    "    for opinion_id, opinion in zip(df[\"opinion_id\"], df[\"opinion\"]): \n",
    "        new_batch = current_batch + [opinion]  # Add new opinion to batch\n",
    "        tokens = num_tokens_from_messages(system_prompt, new_batch)\n",
    "\n",
    "        # If adding this opinion exceeds max_tokens or max_size, start a new batch\n",
    "        if tokens > max_tokens or len(new_batch) > max_size:\n",
    "            if current_batch:  # Avoid adding empty batch\n",
    "                batches[tuple(current_batch_ids)] = [current_batch, current_token_count]\n",
    "            # Start new batch with the current opinion\n",
    "            current_batch = [opinion]  \n",
    "            current_batch_ids = [opinion_id]\n",
    "            current_token_count = num_tokens_from_messages(system_prompt, current_batch)\n",
    "\n",
    "        else:\n",
    "            current_batch.append(opinion)\n",
    "            current_batch_ids.append(opinion_id)\n",
    "            current_token_count = tokens\n",
    "\n",
    "    # Append the last batch if it contains any opinions\n",
    "    if current_batch:\n",
    "        current_token_count = num_tokens_from_messages(system_prompt, current_batch)\n",
    "        batches[tuple(current_batch_ids)] = [current_batch, current_token_count]\n",
    "\n",
    "    return batches"
   ]
  },
  {
   "cell_type": "code",
   "execution_count": 6,
   "id": "f4dfa6a7-0b84-4d23-b7ce-bfdf7bb4abfd",
   "metadata": {},
   "outputs": [],
   "source": [
    "def gpt_completion(api_key,\n",
    "                   system_prompt,\n",
    "                   user_prompt, \n",
    "                   model=\"gpt-4o-mini\"):\n",
    "    \n",
    "    client = OpenAI(api_key=api_key)\n",
    "    completion = client.chat.completions.create(\n",
    "        model=model,\n",
    "        response_format={\"type\": \"json_object\"},\n",
    "        messages=[{\"role\": \"system\", \"content\": f\"{system_prompt}\"},\n",
    "                  {\"role\": \"user\",\"content\": f\"{user_prompt}\"}]\n",
    "    )\n",
    "    \n",
    "    result = completion.choices[0].message.content\n",
    "    return result"
   ]
  },
  {
   "cell_type": "markdown",
   "id": "e4442fa6-aa9a-453d-a815-69196c37b5e4",
   "metadata": {},
   "source": [
    "# Load the data"
   ]
  },
  {
   "cell_type": "code",
   "execution_count": 7,
   "id": "e2b71b88-635d-43fd-a333-2718eb6c83ed",
   "metadata": {
    "scrolled": true
   },
   "outputs": [
    {
     "data": {
      "text/html": [
       "<div>\n",
       "<style scoped>\n",
       "    .dataframe tbody tr th:only-of-type {\n",
       "        vertical-align: middle;\n",
       "    }\n",
       "\n",
       "    .dataframe tbody tr th {\n",
       "        vertical-align: top;\n",
       "    }\n",
       "\n",
       "    .dataframe thead th {\n",
       "        text-align: right;\n",
       "    }\n",
       "</style>\n",
       "<table border=\"1\" class=\"dataframe\">\n",
       "  <thead>\n",
       "    <tr style=\"text-align: right;\">\n",
       "      <th></th>\n",
       "      <th>opinion_id</th>\n",
       "      <th>opinion</th>\n",
       "    </tr>\n",
       "  </thead>\n",
       "  <tbody>\n",
       "    <tr>\n",
       "      <th>0</th>\n",
       "      <td>444587</td>\n",
       "      <td>748 F.2d 972 UNITED STATES of America, Plainti...</td>\n",
       "    </tr>\n",
       "    <tr>\n",
       "      <th>1</th>\n",
       "      <td>9410469</td>\n",
       "      <td>Nebraska Supreme Court Online Library www.nebr...</td>\n",
       "    </tr>\n",
       "    <tr>\n",
       "      <th>2</th>\n",
       "      <td>714663</td>\n",
       "      <td>78 F.3d 599 U.S. v. Johnston ** NO. 94-2273 Un...</td>\n",
       "    </tr>\n",
       "    <tr>\n",
       "      <th>3</th>\n",
       "      <td>2729050</td>\n",
       "      <td>Pursuant to Ind. Appellate Rule 65(D), this Me...</td>\n",
       "    </tr>\n",
       "    <tr>\n",
       "      <th>4</th>\n",
       "      <td>692963</td>\n",
       "      <td>51 F.3d 288 311 U.S.App.D.C. 145 UNITED STATES...</td>\n",
       "    </tr>\n",
       "  </tbody>\n",
       "</table>\n",
       "</div>"
      ],
      "text/plain": [
       "   opinion_id                                            opinion\n",
       "0      444587  748 F.2d 972 UNITED STATES of America, Plainti...\n",
       "1     9410469  Nebraska Supreme Court Online Library www.nebr...\n",
       "2      714663  78 F.3d 599 U.S. v. Johnston ** NO. 94-2273 Un...\n",
       "3     2729050  Pursuant to Ind. Appellate Rule 65(D), this Me...\n",
       "4      692963  51 F.3d 288 311 U.S.App.D.C. 145 UNITED STATES..."
      ]
     },
     "execution_count": 7,
     "metadata": {},
     "output_type": "execute_result"
    }
   ],
   "source": [
    "df = pd.read_csv(\"outputs/1b.opinions_cleaned.csv\")\n",
    "df = df[[\"opinion_id\", \"opinion\"]]\n",
    "df.head()"
   ]
  },
  {
   "cell_type": "markdown",
   "id": "f2dc0cac-ae51-4947-bd79-4ca415cf7998",
   "metadata": {},
   "source": [
    "# Count the number of gpt-4o-mini tokens for each opinion"
   ]
  },
  {
   "cell_type": "code",
   "execution_count": 8,
   "id": "15edecfc-c7c3-4bb0-bfff-1f9d206eee9b",
   "metadata": {
    "scrolled": true
   },
   "outputs": [
    {
     "data": {
      "text/plain": [
       "count      953.000000\n",
       "mean      2235.194124\n",
       "std       3089.424231\n",
       "min         14.000000\n",
       "25%        216.000000\n",
       "50%       1209.000000\n",
       "75%       2941.000000\n",
       "max      30190.000000\n",
       "Name: opinion_4omini_tokens, dtype: float64"
      ]
     },
     "execution_count": 8,
     "metadata": {},
     "output_type": "execute_result"
    }
   ],
   "source": [
    "df['opinion_4omini_tokens'] = df[\"opinion\"].apply(lambda x: num_tokens_from_messages(\"\", x))\n",
    "df['opinion_4omini_tokens'].describe()"
   ]
  },
  {
   "cell_type": "code",
   "execution_count": 9,
   "id": "9210421e-d8fe-408b-8298-7770ad5265e9",
   "metadata": {
    "scrolled": true
   },
   "outputs": [
    {
     "data": {
      "text/plain": [
       "<Axes: >"
      ]
     },
     "execution_count": 9,
     "metadata": {},
     "output_type": "execute_result"
    },
    {
     "data": {
      "image/png": "[encoded data removed]",
      "text/plain": [
       "<Figure size 640x480 with 1 Axes>"
      ]
     },
     "metadata": {},
     "output_type": "display_data"
    }
   ],
   "source": [
    "df['opinion_4omini_tokens'].hist(bins=50)"
   ]
  },
  {
   "cell_type": "markdown",
   "id": "d377a57d-66b6-4f5a-b54d-41b16ecfded5",
   "metadata": {},
   "source": [
    "# Generate batches for API requests\n",
    "\n",
    "This section is really messy because I had to experiment with the prompt, batch size, number of tokens, and I got rate limited on the free tier... To avoid wasting the responses generated during experimentation, I ran the below code blocks iteratively in small batches until all the data was processed. If you are not worried about usage limits and managing cost, you can ignore the df manipulations and directly run through all batches.\n",
    "\n",
    "Generating both relevant and irrelevant queries used ~1.8M input tokens and 24K outputs, which translates to ~\\$0.3 (+0.15/1000000\\*1800000 + 0.6/1000000*24000) with the 4o-mini model. \n",
    "\n",
    "When signing up for a new OpenAI account with API access, you are granted a \\\\$5 starting credit for free. However, to get over the Free tier rate limit, you need to upgrade the account by linking a credit card and add \\$5 to the account. (FYI, the Free tier rate limit on the OpenAI website is bogus, I spent HOURS designing and experimenting with batch size and wait time in an attempt to \"cleverly\" be under the rate limit, but was rate limited within 5 batches of requests, even though the requests were way below the TPM and RPD limits. This is all to say, don't be like me if you want to use OpenAI API to do cool stuff)."
   ]
  },
  {
   "cell_type": "code",
   "execution_count": 135,
   "id": "c3c0ff05-d854-4eba-8f7a-b3c24c6ece1f",
   "metadata": {
    "scrolled": true
   },
   "outputs": [
    {
     "data": {
      "text/plain": [
       "119"
      ]
     },
     "execution_count": 135,
     "metadata": {},
     "output_type": "execute_result"
    }
   ],
   "source": [
    "todo = df[df[\"relevant_query_stmt\"].isna()]\n",
    "len(todo)"
   ]
  },
  {
   "cell_type": "code",
   "execution_count": 138,
   "id": "dc58b9a8-d375-449b-93bc-c92027b04ea1",
   "metadata": {
    "scrolled": true
   },
   "outputs": [
    {
     "data": {
      "text/plain": [
       "20"
      ]
     },
     "execution_count": 138,
     "metadata": {},
     "output_type": "execute_result"
    }
   ],
   "source": [
    "batches = group_opinions_by_tokens(todo, max_tokens=60000, max_size=6)\n",
    "len(batches.keys())"
   ]
  },
  {
   "cell_type": "code",
   "execution_count": 139,
   "id": "226c34c8-48b1-494b-bcd4-9a882133c677",
   "metadata": {
    "scrolled": true
   },
   "outputs": [
    {
     "name": "stdout",
     "output_type": "stream",
     "text": [
      "(3210325, 1505662, 5353026, 5363734, 5364874, 5364935)\n",
      "8766\n",
      "(5372695, 5409063, 5415284, 5430564, 5439545, 5458786)\n",
      "8746\n",
      "(5462915, 5467874, 5488236, 5490555, 3836669, 5513206)\n",
      "4062\n",
      "(5526828, 5530509, 5536698, 5537070, 5537188, 5540741)\n",
      "6303\n",
      "(5582360, 5585375, 5595665, 5624603, 5634795, 5638976)\n",
      "2702\n",
      "(5646724, 5652865, 5658078, 5665858, 5671539, 5671863)\n",
      "12220\n",
      "(5686161, 5691029, 5694442, 5698910, 5702250, 5711705)\n",
      "7823\n",
      "(5715008, 5720288, 5737027, 5737195, 3544741, 5748852)\n",
      "3490\n",
      "(5759944, 5777043, 5854417, 5856723, 5857491, 5868217)\n",
      "3576\n",
      "(5896737, 5902832, 5903097, 1123999, 5919424, 5958351)\n",
      "5547\n",
      "(5972065, 5973290, 5986493, 5983229, 5990572, 6021612)\n",
      "2736\n",
      "(6049073, 6062110, 750306, 6085891, 456313, 6086760)\n",
      "5707\n",
      "(6090211, 6091771, 6071605, 6100808, 6102151, 6137122)\n",
      "1851\n",
      "(6155711, 6190312, 6198051, 6199131, 6200542, 6211579)\n",
      "13230\n",
      "(6212018, 6219475, 9560674, 6228332, 6230427, 6232199)\n",
      "5149\n",
      "(1554420, 6237195, 6237262, 6238905, 6173548, 6180733)\n",
      "6382\n",
      "(6310436, 6311699, 6254514, 6267182, 6285501, 6301161)\n",
      "4537\n",
      "(3141436, 6370412, 4667812, 1218123, 130971, 127347)\n",
      "11504\n",
      "(145145, 1317754, 274789, 1254152, 9597649, 519442)\n",
      "14294\n",
      "(524265, 839254, 563586, 9607832, 4683493)\n",
      "12269\n"
     ]
    }
   ],
   "source": [
    "for ids, [opinions, num_tokens] in batches.items():\n",
    "    print(ids)\n",
    "    print(num_tokens)"
   ]
  },
  {
   "cell_type": "code",
   "execution_count": 140,
   "id": "b7732f5e-d733-4a98-8057-d87f24181485",
   "metadata": {
    "scrolled": true
   },
   "outputs": [
    {
     "name": "stdout",
     "output_type": "stream",
     "text": [
      "batch 1 started...\n",
      "batch 1 completed...\n",
      "batch 2 started...\n",
      "batch 2 completed...\n",
      "batch 3 started...\n",
      "batch 3 completed...\n",
      "batch 4 started...\n",
      "batch 4 completed...\n",
      "batch 5 started...\n",
      "batch 5 completed...\n",
      "batch 6 started...\n",
      "batch 6 completed...\n",
      "batch 7 started...\n",
      "batch 7 completed...\n",
      "batch 8 started...\n",
      "batch 8 completed...\n",
      "batch 9 started...\n",
      "batch 9 completed...\n",
      "batch 10 started...\n",
      "batch 10 completed...\n",
      "batch 11 started...\n",
      "batch 11 completed...\n",
      "batch 12 started...\n",
      "batch 12 completed...\n",
      "batch 13 started...\n",
      "batch 13 completed...\n",
      "batch 14 started...\n",
      "batch 14 completed...\n",
      "batch 15 started...\n",
      "batch 15 completed...\n",
      "batch 16 started...\n",
      "batch 16 completed...\n",
      "batch 17 started...\n",
      "batch 17 completed...\n",
      "batch 18 started...\n",
      "batch 18 completed...\n",
      "batch 19 started...\n",
      "batch 19 completed...\n",
      "batch 20 started...\n",
      "batch 20 completed...\n",
      "CPU times: user 1.16 s, sys: 363 ms, total: 1.52 s\n",
      "Wall time: 11min 59s\n"
     ]
    }
   ],
   "source": [
    "%%time\n",
    "\n",
    "counter = 1\n",
    "results = {}\n",
    "errors = {}\n",
    "for ids, [opinions, num_tokens] in batches.items():\n",
    "    print(f\"batch {counter} started...\")\n",
    "    \n",
    "    try:\n",
    "        result = gpt_completion(API_KEY, ' '.join(SYSTEM_PROMPT.split()), {ids[i]: opinions[i] for i in range(len(ids))})\n",
    "        try:\n",
    "            loaded_result = json.loads(result)\n",
    "        except:\n",
    "            loaded_result = result\n",
    "        \n",
    "        results[ids] = {\n",
    "            \"opinions\": opinions,\n",
    "            \"num_tokens\": num_tokens,\n",
    "            \"result\": loaded_result\n",
    "        }\n",
    "        print(f\"batch {counter} completed...\")\n",
    "    except Exception as e:\n",
    "        errors[ids] = f\"{e}\"\n",
    "        print(f\"batch {counter} {e}...\")\n",
    "    \n",
    "    counter += 1\n",
    "    time.sleep(30)"
   ]
  },
  {
   "cell_type": "code",
   "execution_count": 141,
   "id": "153259ae-b800-4600-90b8-38951ae45075",
   "metadata": {},
   "outputs": [],
   "source": [
    "rows = []\n",
    "issues = []\n",
    "for ids, values in results.items():\n",
    "    opinions = values['opinions']\n",
    "    result = values['result']\n",
    "    \n",
    "    for opinion, id_ in zip(opinions, ids):\n",
    "        try:\n",
    "            rows.append({\n",
    "                'opinion_id': id_,\n",
    "                'input_opinion': opinion,\n",
    "                'relevant_query_stmt': result[str(id_)]['relevant'],\n",
    "                'irrelevant_query_stmt': result[str(id_)]['irrelevant']\n",
    "            })\n",
    "        except:\n",
    "            issues.append(ids)"
   ]
  },
  {
   "cell_type": "code",
   "execution_count": 142,
   "id": "6a14fd49-d380-41d3-9a3a-7854a0d33036",
   "metadata": {
    "scrolled": true
   },
   "outputs": [
    {
     "data": {
      "text/html": [
       "<div>\n",
       "<style scoped>\n",
       "    .dataframe tbody tr th:only-of-type {\n",
       "        vertical-align: middle;\n",
       "    }\n",
       "\n",
       "    .dataframe tbody tr th {\n",
       "        vertical-align: top;\n",
       "    }\n",
       "\n",
       "    .dataframe thead th {\n",
       "        text-align: right;\n",
       "    }\n",
       "</style>\n",
       "<table border=\"1\" class=\"dataframe\">\n",
       "  <thead>\n",
       "    <tr style=\"text-align: right;\">\n",
       "      <th></th>\n",
       "      <th>opinion_id</th>\n",
       "      <th>input_opinion</th>\n",
       "      <th>relevant_query_stmt</th>\n",
       "      <th>irrelevant_query_stmt</th>\n",
       "    </tr>\n",
       "  </thead>\n",
       "  <tbody>\n",
       "    <tr>\n",
       "      <th>0</th>\n",
       "      <td>3210325</td>\n",
       "      <td>Citation Nr: 1617320 Decision Date: 04/29/16 A...</td>\n",
       "      <td>service connection heart disease veterans bene...</td>\n",
       "      <td>heart disease legal advice</td>\n",
       "    </tr>\n",
       "    <tr>\n",
       "      <th>1</th>\n",
       "      <td>1505662</td>\n",
       "      <td>865 F. Supp. 1180 (1993) The AMERICAN ANGUS AS...</td>\n",
       "      <td>trademark cancellation certification mark stan...</td>\n",
       "      <td>real estate property disputes</td>\n",
       "    </tr>\n",
       "    <tr>\n",
       "      <th>2</th>\n",
       "      <td>5353026</td>\n",
       "      <td>Order unanimously affirmed, with twenty dolla...</td>\n",
       "      <td>court judgment appeal costs</td>\n",
       "      <td>bankruptcy filings</td>\n",
       "    </tr>\n",
       "    <tr>\n",
       "      <th>3</th>\n",
       "      <td>5363734</td>\n",
       "      <td>Judgment by a city magistrate, sitting as a C...</td>\n",
       "      <td>public traffic violation section 2147</td>\n",
       "      <td>private contract disputes</td>\n",
       "    </tr>\n",
       "    <tr>\n",
       "      <th>4</th>\n",
       "      <td>5364874</td>\n",
       "      <td>Motion for reargument denied. Motion for leav...</td>\n",
       "      <td>reargument leave to appeal</td>\n",
       "      <td>disputes over rental agreements</td>\n",
       "    </tr>\n",
       "    <tr>\n",
       "      <th>...</th>\n",
       "      <td>...</td>\n",
       "      <td>...</td>\n",
       "      <td>...</td>\n",
       "      <td>...</td>\n",
       "    </tr>\n",
       "    <tr>\n",
       "      <th>114</th>\n",
       "      <td>524265</td>\n",
       "      <td>876 F.2d 266 1989-1 Trade Cases 68,591 , 16 Me...</td>\n",
       "      <td>New York Times antitrust case against independ...</td>\n",
       "      <td>Effect of social media on newspaper readership...</td>\n",
       "    </tr>\n",
       "    <tr>\n",
       "      <th>115</th>\n",
       "      <td>839254</td>\n",
       "      <td>750 N.W.2d 177 (2008) PEOPLE of the State of M...</td>\n",
       "      <td>Michigan Supreme Court denial of leave to appe...</td>\n",
       "      <td>Federal regulations on immigration reform</td>\n",
       "    </tr>\n",
       "    <tr>\n",
       "      <th>116</th>\n",
       "      <td>563586</td>\n",
       "      <td>936 F.2d 585 U.S. v. Rodriguez * NO. 90-3023 U...</td>\n",
       "      <td>Appeal outcome in United States v. Rodriguez r...</td>\n",
       "      <td>Landmark Supreme Court decisions on privacy ri...</td>\n",
       "    </tr>\n",
       "    <tr>\n",
       "      <th>117</th>\n",
       "      <td>9607832</td>\n",
       "      <td>SHEPARD, J., concurs in the result. BAKES, Ju...</td>\n",
       "      <td>Due process concerns in a civil trial regardin...</td>\n",
       "      <td>Economic impact of environmental regulations o...</td>\n",
       "    </tr>\n",
       "    <tr>\n",
       "      <th>118</th>\n",
       "      <td>4683493</td>\n",
       "      <td>UNPUBLISHED UNITED STATES COURT OF APPEALS FO...</td>\n",
       "      <td>Dismissal of a Bivens action in federal court</td>\n",
       "      <td>International trade agreements and economic po...</td>\n",
       "    </tr>\n",
       "  </tbody>\n",
       "</table>\n",
       "<p>119 rows × 4 columns</p>\n",
       "</div>"
      ],
      "text/plain": [
       "     opinion_id                                      input_opinion  \\\n",
       "0       3210325  Citation Nr: 1617320 Decision Date: 04/29/16 A...   \n",
       "1       1505662  865 F. Supp. 1180 (1993) The AMERICAN ANGUS AS...   \n",
       "2       5353026   Order unanimously affirmed, with twenty dolla...   \n",
       "3       5363734   Judgment by a city magistrate, sitting as a C...   \n",
       "4       5364874   Motion for reargument denied. Motion for leav...   \n",
       "..          ...                                                ...   \n",
       "114      524265  876 F.2d 266 1989-1 Trade Cases 68,591 , 16 Me...   \n",
       "115      839254  750 N.W.2d 177 (2008) PEOPLE of the State of M...   \n",
       "116      563586  936 F.2d 585 U.S. v. Rodriguez * NO. 90-3023 U...   \n",
       "117     9607832   SHEPARD, J., concurs in the result. BAKES, Ju...   \n",
       "118     4683493   UNPUBLISHED UNITED STATES COURT OF APPEALS FO...   \n",
       "\n",
       "                                   relevant_query_stmt  \\\n",
       "0    service connection heart disease veterans bene...   \n",
       "1    trademark cancellation certification mark stan...   \n",
       "2                          court judgment appeal costs   \n",
       "3                public traffic violation section 2147   \n",
       "4                           reargument leave to appeal   \n",
       "..                                                 ...   \n",
       "114  New York Times antitrust case against independ...   \n",
       "115  Michigan Supreme Court denial of leave to appe...   \n",
       "116  Appeal outcome in United States v. Rodriguez r...   \n",
       "117  Due process concerns in a civil trial regardin...   \n",
       "118      Dismissal of a Bivens action in federal court   \n",
       "\n",
       "                                 irrelevant_query_stmt  \n",
       "0                           heart disease legal advice  \n",
       "1                        real estate property disputes  \n",
       "2                                   bankruptcy filings  \n",
       "3                            private contract disputes  \n",
       "4                      disputes over rental agreements  \n",
       "..                                                 ...  \n",
       "114  Effect of social media on newspaper readership...  \n",
       "115          Federal regulations on immigration reform  \n",
       "116  Landmark Supreme Court decisions on privacy ri...  \n",
       "117  Economic impact of environmental regulations o...  \n",
       "118  International trade agreements and economic po...  \n",
       "\n",
       "[119 rows x 4 columns]"
      ]
     },
     "execution_count": 142,
     "metadata": {},
     "output_type": "execute_result"
    }
   ],
   "source": [
    "results_df = pd.DataFrame(rows)\n",
    "results_df"
   ]
  },
  {
   "cell_type": "code",
   "execution_count": 143,
   "id": "09294062-aff9-4edd-8692-1d4851fa6ffa",
   "metadata": {
    "scrolled": true
   },
   "outputs": [],
   "source": [
    "df = df.merge(results_df, how=\"left\", on=\"opinion_id\", suffixes=('', '_results'))\n",
    "\n",
    "# Replace NaN values in df with corresponding values from results_df\n",
    "for column in results_df.columns:\n",
    "    if column != \"opinion_id\": \n",
    "        df[column] = df[column].fillna(df[column + '_results'])\n",
    "        df.drop(columns=[column + '_results'], inplace=True)"
   ]
  },
  {
   "cell_type": "code",
   "execution_count": 144,
   "id": "71aeac6a-602e-460c-bcba-36b8f3d36f7a",
   "metadata": {},
   "outputs": [
    {
     "data": {
      "text/plain": [
       "953"
      ]
     },
     "execution_count": 144,
     "metadata": {},
     "output_type": "execute_result"
    }
   ],
   "source": [
    "done = df[~df[\"relevant_query_stmt\"].isna()]\n",
    "len(done)"
   ]
  },
  {
   "cell_type": "markdown",
   "id": "c877c0c5-f9a3-4e6a-b5cf-cf83dabf14a2",
   "metadata": {},
   "source": [
    "# Save the resulting df with generated queries"
   ]
  },
  {
   "cell_type": "code",
   "execution_count": 147,
   "id": "1a5abe0c-1d9f-42ec-b1bd-37666789b4f9",
   "metadata": {},
   "outputs": [],
   "source": [
    "df.to_csv(\"outputs/2a.queries_generated.csv\", index=False)"
   ]
  }
 ],
 "metadata": {
  "kernelspec": {
   "display_name": "Python 3 (ipykernel)",
   "language": "python",
   "name": "python3"
  },
  "language_info": {
   "codemirror_mode": {
    "name": "ipython",
    "version": 3
   },
   "file_extension": ".py",
   "mimetype": "text/x-python",
   "name": "python",
   "nbconvert_exporter": "python",
   "pygments_lexer": "ipython3",
   "version": "3.10.16"
  }
 },
 "nbformat": 4,
 "nbformat_minor": 5
}
