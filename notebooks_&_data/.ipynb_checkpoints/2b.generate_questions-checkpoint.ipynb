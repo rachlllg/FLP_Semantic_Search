{
 "cells": [
  {
   "cell_type": "markdown",
   "id": "fe626baf-3815-4b1c-bc9b-d3583df24c58",
   "metadata": {},
   "source": [
    "# Generate questions\n",
    "\n",
    "This notebook outlines the steps undertook to generate the questions to serve as datapoints to create question-result pairs for modeling & evaluation under the QA task formation.\n",
    "\n",
    "This is essentially a copy of the 2a notebook, except I tuned the system_prompt to now generate a question instead of a statement."
   ]
  },
  {
   "cell_type": "markdown",
   "id": "4c095143-0c62-4673-8bf7-4915d54f538a",
   "metadata": {},
   "source": [
    "# Import libraries"
   ]
  },
  {
   "cell_type": "code",
   "execution_count": 1,
   "id": "94960c8b-7503-4262-ac54-3eb2ea2455ec",
   "metadata": {},
   "outputs": [],
   "source": [
    "#%pip install tiktoken -q\n",
    "#%pip install openai -q\n",
    "\n",
    "import time\n",
    "import json\n",
    "\n",
    "import numpy as np\n",
    "import pandas as pd\n",
    "\n",
    "import tiktoken\n",
    "from openai import OpenAI"
   ]
  },
  {
   "cell_type": "markdown",
   "id": "39515d59-a25d-438a-a0b8-c662cc59b99e",
   "metadata": {},
   "source": [
    "# Global variables"
   ]
  },
  {
   "cell_type": "code",
   "execution_count": 2,
   "id": "a6e8cf9a-65aa-403a-8c2d-19da31b79c68",
   "metadata": {},
   "outputs": [],
   "source": [
    "API_KEY = \"YOUR_API_KEY\"\n",
    "SYSTEM_PROMPT = '''\n",
    "Given a list of case law opinions, generate two search queries for each opinion, both queries should be in the form of questions. \n",
    "The 'relevant' search query should satisfy that the opinion is relevant for the query and the opinion should be sufficient to answer the query, \n",
    "while the 'irrelevant' search query should be not relevant to the opinion and the opinion should not be sufficient to answer the query. Return the queries in a form of a json. \n",
    "Here is an example: \n",
    "input = {'id 1': 'opinion 1', \n",
    "         'id 2': 'opinion 2', \n",
    "         'id 3': 'opinion 3'}, \n",
    "output = {'id 1': {'relevant': 'relevant 1', 'irrelevant': 'irrelevant 1'}, \n",
    "          'id 2': {'relevant': 'relevant 2', 'irrelevant': 'irrelevant 2'},\n",
    "          'id 3': {'relevant': 'relevant 3', 'irrelevant': 'irrelevant 3'}}\n",
    "'''"
   ]
  },
  {
   "cell_type": "markdown",
   "id": "bbd26bd4-c922-40b7-91f0-2de3f5fc4331",
   "metadata": {},
   "source": [
    "# Helper functions"
   ]
  },
  {
   "cell_type": "code",
   "execution_count": 3,
   "id": "092f4ccc-254d-4ddb-8b7f-fd201d749194",
   "metadata": {},
   "outputs": [],
   "source": [
    "# from openai cookbook: https://cookbook.openai.com/examples/how_to_count_tokens_with_tiktoken\n",
    "def num_tokens_from_messages(system_prompt, user_prompt, model=\"gpt-4o-mini-2024-07-18\"):\n",
    "    \"\"\"Return the number of tokens used by a list of messages.\"\"\"\n",
    "\n",
    "    messages = [{\"role\": \"system\", \"content\": f\"{system_prompt}\"},\n",
    "                {\"role\": \"user\", \"content\": f\"{user_prompt}\"}]\n",
    "    \n",
    "    try:\n",
    "        encoding = tiktoken.encoding_for_model(model)\n",
    "    except KeyError:\n",
    "        print(\"Warning: model not found. Using o200k_base encoding.\")\n",
    "        encoding = tiktoken.get_encoding(\"o200k_base\")\n",
    "    if model in {\n",
    "        \"gpt-3.5-turbo-0125\",\n",
    "        \"gpt-4-0314\",\n",
    "        \"gpt-4-32k-0314\",\n",
    "        \"gpt-4-0613\",\n",
    "        \"gpt-4-32k-0613\",\n",
    "        \"gpt-4o-mini-2024-07-18\",\n",
    "        \"gpt-4o-2024-08-06\"\n",
    "        }:\n",
    "        tokens_per_message = 3\n",
    "        tokens_per_name = 1\n",
    "    elif \"gpt-3.5-turbo\" in model:\n",
    "        print(\"Warning: gpt-3.5-turbo may update over time. Returning num tokens assuming gpt-3.5-turbo-0125.\")\n",
    "        return num_tokens_from_messages(messages, model=\"gpt-3.5-turbo-0125\")\n",
    "    elif \"gpt-4o-mini\" in model:\n",
    "        print(\"Warning: gpt-4o-mini may update over time. Returning num tokens assuming gpt-4o-mini-2024-07-18.\")\n",
    "        return num_tokens_from_messages(messages, model=\"gpt-4o-mini-2024-07-18\")\n",
    "    elif \"gpt-4o\" in model:\n",
    "        print(\"Warning: gpt-4o and gpt-4o-mini may update over time. Returning num tokens assuming gpt-4o-2024-08-06.\")\n",
    "        return num_tokens_from_messages(messages, model=\"gpt-4o-2024-08-06\")\n",
    "    elif \"gpt-4\" in model:\n",
    "        print(\"Warning: gpt-4 may update over time. Returning num tokens assuming gpt-4-0613.\")\n",
    "        return num_tokens_from_messages(messages, model=\"gpt-4-0613\")\n",
    "    else:\n",
    "        raise NotImplementedError(\n",
    "            f\"\"\"num_tokens_from_messages() is not implemented for model {model}.\"\"\"\n",
    "        )\n",
    "    num_tokens = 0\n",
    "    for message in messages:\n",
    "        num_tokens += tokens_per_message\n",
    "        for key, value in message.items():\n",
    "            num_tokens += len(encoding.encode(value))\n",
    "            if key == \"name\":\n",
    "                num_tokens += tokens_per_name\n",
    "    num_tokens += 3  # every reply is primed with <|start|>assistant<|message|>\n",
    "    return num_tokens"
   ]
  },
  {
   "cell_type": "code",
   "execution_count": 4,
   "id": "31ba1a6f-e53c-4685-8f93-cf079c21f800",
   "metadata": {},
   "outputs": [
    {
     "data": {
      "text/plain": [
       "'number of tokens used by system prompt: 219'"
      ]
     },
     "execution_count": 4,
     "metadata": {},
     "output_type": "execute_result"
    }
   ],
   "source": [
    "f\"number of tokens used by system prompt: {num_tokens_from_messages(' '.join(SYSTEM_PROMPT.split()), '')}\""
   ]
  },
  {
   "cell_type": "code",
   "execution_count": 5,
   "id": "d91d51b0-0687-42df-8b62-8d249a8c4cd0",
   "metadata": {},
   "outputs": [],
   "source": [
    "def group_opinions_by_tokens(df, \n",
    "                             system_prompt='',\n",
    "                             max_tokens=40000,\n",
    "                             max_size=6):\n",
    "    batches = {} \n",
    "    current_batch = []\n",
    "    current_batch_ids = []\n",
    "    current_token_count = 0\n",
    "\n",
    "    for opinion_id, opinion in zip(df[\"opinion_id\"], df[\"opinion\"]): \n",
    "        new_batch = current_batch + [opinion]  # Add new opinion to batch\n",
    "        tokens = num_tokens_from_messages(system_prompt, new_batch)\n",
    "\n",
    "        # If adding this opinion exceeds max_tokens or max_size, start a new batch\n",
    "        if tokens > max_tokens or len(new_batch) > max_size:\n",
    "            if current_batch:  # Avoid adding empty batch\n",
    "                batches[tuple(current_batch_ids)] = [current_batch, current_token_count]\n",
    "            # Start new batch with the current opinion\n",
    "            current_batch = [opinion]  \n",
    "            current_batch_ids = [opinion_id]\n",
    "            current_token_count = num_tokens_from_messages(system_prompt, current_batch)\n",
    "\n",
    "        else:\n",
    "            current_batch.append(opinion)\n",
    "            current_batch_ids.append(opinion_id)\n",
    "            current_token_count = tokens\n",
    "\n",
    "    # Append the last batch if it contains any opinions\n",
    "    if current_batch:\n",
    "        current_token_count = num_tokens_from_messages(system_prompt, current_batch)\n",
    "        batches[tuple(current_batch_ids)] = [current_batch, current_token_count]\n",
    "\n",
    "    return batches"
   ]
  },
  {
   "cell_type": "code",
   "execution_count": 6,
   "id": "f4dfa6a7-0b84-4d23-b7ce-bfdf7bb4abfd",
   "metadata": {},
   "outputs": [],
   "source": [
    "def gpt_completion(api_key,\n",
    "                   system_prompt,\n",
    "                   user_prompt, \n",
    "                   model=\"gpt-4o-mini\"):\n",
    "    \n",
    "    client = OpenAI(api_key=api_key)\n",
    "    completion = client.chat.completions.create(\n",
    "        model=model,\n",
    "        response_format={\"type\": \"json_object\"},\n",
    "        messages=[{\"role\": \"system\", \"content\": f\"{system_prompt}\"},\n",
    "                  {\"role\": \"user\",\"content\": f\"{user_prompt}\"}]\n",
    "    )\n",
    "    \n",
    "    result = completion.choices[0].message.content\n",
    "    return result"
   ]
  },
  {
   "cell_type": "markdown",
   "id": "e4442fa6-aa9a-453d-a815-69196c37b5e4",
   "metadata": {},
   "source": [
    "# Load the data"
   ]
  },
  {
   "cell_type": "code",
   "execution_count": 28,
   "id": "e2b71b88-635d-43fd-a333-2718eb6c83ed",
   "metadata": {
    "scrolled": true
   },
   "outputs": [
    {
     "data": {
      "text/html": [
       "<div>\n",
       "<style scoped>\n",
       "    .dataframe tbody tr th:only-of-type {\n",
       "        vertical-align: middle;\n",
       "    }\n",
       "\n",
       "    .dataframe tbody tr th {\n",
       "        vertical-align: top;\n",
       "    }\n",
       "\n",
       "    .dataframe thead th {\n",
       "        text-align: right;\n",
       "    }\n",
       "</style>\n",
       "<table border=\"1\" class=\"dataframe\">\n",
       "  <thead>\n",
       "    <tr style=\"text-align: right;\">\n",
       "      <th></th>\n",
       "      <th>opinion_id</th>\n",
       "      <th>opinion</th>\n",
       "    </tr>\n",
       "  </thead>\n",
       "  <tbody>\n",
       "    <tr>\n",
       "      <th>0</th>\n",
       "      <td>444587</td>\n",
       "      <td>748 F.2d 972 UNITED STATES of America, Plainti...</td>\n",
       "    </tr>\n",
       "    <tr>\n",
       "      <th>1</th>\n",
       "      <td>9410469</td>\n",
       "      <td>Nebraska Supreme Court Online Library www.nebr...</td>\n",
       "    </tr>\n",
       "    <tr>\n",
       "      <th>2</th>\n",
       "      <td>714663</td>\n",
       "      <td>78 F.3d 599 U.S. v. Johnston ** NO. 94-2273 Un...</td>\n",
       "    </tr>\n",
       "    <tr>\n",
       "      <th>3</th>\n",
       "      <td>2729050</td>\n",
       "      <td>Pursuant to Ind. Appellate Rule 65(D), this Me...</td>\n",
       "    </tr>\n",
       "    <tr>\n",
       "      <th>4</th>\n",
       "      <td>692963</td>\n",
       "      <td>51 F.3d 288 311 U.S.App.D.C. 145 UNITED STATES...</td>\n",
       "    </tr>\n",
       "  </tbody>\n",
       "</table>\n",
       "</div>"
      ],
      "text/plain": [
       "   opinion_id                                            opinion\n",
       "0      444587  748 F.2d 972 UNITED STATES of America, Plainti...\n",
       "1     9410469  Nebraska Supreme Court Online Library www.nebr...\n",
       "2      714663  78 F.3d 599 U.S. v. Johnston ** NO. 94-2273 Un...\n",
       "3     2729050  Pursuant to Ind. Appellate Rule 65(D), this Me...\n",
       "4      692963  51 F.3d 288 311 U.S.App.D.C. 145 UNITED STATES..."
      ]
     },
     "execution_count": 28,
     "metadata": {},
     "output_type": "execute_result"
    }
   ],
   "source": [
    "df = pd.read_csv(\"outputs/1b.opinions_cleaned.csv\")\n",
    "df = df[[\"opinion_id\", \"opinion\"]]\n",
    "df.head()"
   ]
  },
  {
   "cell_type": "markdown",
   "id": "f2dc0cac-ae51-4947-bd79-4ca415cf7998",
   "metadata": {},
   "source": [
    "# Count the number of gpt-4o-mini tokens for each opinion"
   ]
  },
  {
   "cell_type": "code",
   "execution_count": 29,
   "id": "15edecfc-c7c3-4bb0-bfff-1f9d206eee9b",
   "metadata": {
    "scrolled": true
   },
   "outputs": [
    {
     "data": {
      "text/plain": [
       "count      953.000000\n",
       "mean      2235.194124\n",
       "std       3089.424231\n",
       "min         14.000000\n",
       "25%        216.000000\n",
       "50%       1209.000000\n",
       "75%       2941.000000\n",
       "max      30190.000000\n",
       "Name: opinion_4omini_tokens, dtype: float64"
      ]
     },
     "execution_count": 29,
     "metadata": {},
     "output_type": "execute_result"
    }
   ],
   "source": [
    "df['opinion_4omini_tokens'] = df[\"opinion\"].apply(lambda x: num_tokens_from_messages(\"\", x))\n",
    "df['opinion_4omini_tokens'].describe()"
   ]
  },
  {
   "cell_type": "code",
   "execution_count": 9,
   "id": "9210421e-d8fe-408b-8298-7770ad5265e9",
   "metadata": {
    "scrolled": true
   },
   "outputs": [
    {
     "data": {
      "text/plain": [
       "<Axes: >"
      ]
     },
     "execution_count": 9,
     "metadata": {},
     "output_type": "execute_result"
    },
    {
     "data": {
      "image/png": "[encoded data removed]",
      "text/plain": [
       "<Figure size 640x480 with 1 Axes>"
      ]
     },
     "metadata": {},
     "output_type": "display_data"
    }
   ],
   "source": [
    "df['opinion_4omini_tokens'].hist(bins=50)"
   ]
  },
  {
   "cell_type": "markdown",
   "id": "d377a57d-66b6-4f5a-b54d-41b16ecfded5",
   "metadata": {},
   "source": [
    "# Generate batches for API requests\n",
    "\n",
    "This section is much cleaner than 2a notebook, since I know the script works and figured out the rate limit issue. The system prompt for this set was slightly longer than in 2a but the cost was comparable. I ended up using <$1 to generate the datasets for both IR and QA task formation.\n",
    "\n",
    "The code block was ran twice because occassionally an opinion is missing in the request response and therefore needs to be sent again."
   ]
  },
  {
   "cell_type": "code",
   "execution_count": 32,
   "id": "e65a37c8-0ae4-4e28-9139-dce348edbb5f",
   "metadata": {},
   "outputs": [
    {
     "data": {
      "text/plain": [
       "16"
      ]
     },
     "execution_count": 32,
     "metadata": {},
     "output_type": "execute_result"
    }
   ],
   "source": [
    "todo = df[df[\"input_opinion\"].isna()]\n",
    "len(todo)"
   ]
  },
  {
   "cell_type": "code",
   "execution_count": 33,
   "id": "dc58b9a8-d375-449b-93bc-c92027b04ea1",
   "metadata": {
    "scrolled": true
   },
   "outputs": [
    {
     "data": {
      "text/plain": [
       "3"
      ]
     },
     "execution_count": 33,
     "metadata": {},
     "output_type": "execute_result"
    }
   ],
   "source": [
    "batches = group_opinions_by_tokens(todo, max_tokens=60000, max_size=6)\n",
    "len(batches.keys())"
   ]
  },
  {
   "cell_type": "code",
   "execution_count": 34,
   "id": "226c34c8-48b1-494b-bcd4-9a882133c677",
   "metadata": {
    "scrolled": true
   },
   "outputs": [
    {
     "name": "stdout",
     "output_type": "stream",
     "text": [
      "(6331009, 6550068, 7044144, 8836719, 1771285, 1359066)\n",
      "16763\n",
      "(2654943, 1813170, 1186774, 2898711, 3996688, 4252778)\n",
      "26351\n",
      "(4361755, 1512907, 8211259, 577210)\n",
      "9426\n"
     ]
    }
   ],
   "source": [
    "for ids, [opinions, num_tokens] in batches.items():\n",
    "    print(ids)\n",
    "    print(num_tokens)"
   ]
  },
  {
   "cell_type": "code",
   "execution_count": 35,
   "id": "b7732f5e-d733-4a98-8057-d87f24181485",
   "metadata": {
    "scrolled": true
   },
   "outputs": [
    {
     "name": "stdout",
     "output_type": "stream",
     "text": [
      "batch 1 started...\n",
      "batch 1 completed...\n",
      "batch 2 started...\n",
      "batch 2 completed...\n",
      "batch 3 started...\n",
      "batch 3 completed...\n",
      "CPU times: user 167 ms, sys: 43 ms, total: 210 ms\n",
      "Wall time: 1min 14s\n"
     ]
    }
   ],
   "source": [
    "%%time\n",
    "\n",
    "counter = 1\n",
    "results = {}\n",
    "errors = {}\n",
    "for ids, [opinions, num_tokens] in batches.items():\n",
    "    print(f\"batch {counter} started...\")\n",
    "    \n",
    "    try:\n",
    "        result = gpt_completion(API_KEY, ' '.join(SYSTEM_PROMPT.split()), {ids[i]: opinions[i] for i in range(len(ids))})\n",
    "        try:\n",
    "            loaded_result = json.loads(result)\n",
    "        except:\n",
    "            loaded_result = result\n",
    "        \n",
    "        results[ids] = {\n",
    "            \"opinions\": opinions,\n",
    "            \"num_tokens\": num_tokens,\n",
    "            \"result\": loaded_result\n",
    "        }\n",
    "        print(f\"batch {counter} completed...\")\n",
    "    except Exception as e:\n",
    "        errors[ids] = f\"{e}\"\n",
    "        print(f\"batch {counter} {e}...\")\n",
    "    \n",
    "    counter += 1\n",
    "    time.sleep(20)"
   ]
  },
  {
   "cell_type": "code",
   "execution_count": 36,
   "id": "153259ae-b800-4600-90b8-38951ae45075",
   "metadata": {},
   "outputs": [],
   "source": [
    "rows = []\n",
    "issues = []\n",
    "for ids, values in results.items():\n",
    "    opinions = values['opinions']\n",
    "    result = values['result']\n",
    "    \n",
    "    for opinion, id_ in zip(opinions, ids):\n",
    "        try:\n",
    "            rows.append({\n",
    "                'opinion_id': id_,\n",
    "                'input_opinion': opinion,\n",
    "                'relevant_query_qstn': result[str(id_)]['relevant'],\n",
    "                'irrelevant_query_qstn': result[str(id_)]['irrelevant']\n",
    "            })\n",
    "        except:\n",
    "            issues.append(ids)"
   ]
  },
  {
   "cell_type": "code",
   "execution_count": 37,
   "id": "6a14fd49-d380-41d3-9a3a-7854a0d33036",
   "metadata": {
    "scrolled": true
   },
   "outputs": [
    {
     "data": {
      "text/html": [
       "<div>\n",
       "<style scoped>\n",
       "    .dataframe tbody tr th:only-of-type {\n",
       "        vertical-align: middle;\n",
       "    }\n",
       "\n",
       "    .dataframe tbody tr th {\n",
       "        vertical-align: top;\n",
       "    }\n",
       "\n",
       "    .dataframe thead th {\n",
       "        text-align: right;\n",
       "    }\n",
       "</style>\n",
       "<table border=\"1\" class=\"dataframe\">\n",
       "  <thead>\n",
       "    <tr style=\"text-align: right;\">\n",
       "      <th></th>\n",
       "      <th>opinion_id</th>\n",
       "      <th>input_opinion</th>\n",
       "      <th>relevant_query_qstn</th>\n",
       "      <th>irrelevant_query_qstn</th>\n",
       "    </tr>\n",
       "  </thead>\n",
       "  <tbody>\n",
       "    <tr>\n",
       "      <th>0</th>\n",
       "      <td>6331009</td>\n",
       "      <td>Case: 20-61182 Document: 00516278598 Page: 1 D...</td>\n",
       "      <td>What were the reasons the Fifth Circuit denied...</td>\n",
       "      <td>What is the history of immigration law in the ...</td>\n",
       "    </tr>\n",
       "    <tr>\n",
       "      <th>1</th>\n",
       "      <td>6550068</td>\n",
       "      <td>Lawson Cloninger, Judge. Appellant Kenneth Tu...</td>\n",
       "      <td>What were the grounds for Kenneth Tucker's app...</td>\n",
       "      <td>What are the steps involved in filing for divo...</td>\n",
       "    </tr>\n",
       "    <tr>\n",
       "      <th>2</th>\n",
       "      <td>7044144</td>\n",
       "      <td>Bicknell, C. The city of Greencastle had an o...</td>\n",
       "      <td>How did the city of Greencastle handle the imp...</td>\n",
       "      <td>What are the current laws regarding environmen...</td>\n",
       "    </tr>\n",
       "    <tr>\n",
       "      <th>3</th>\n",
       "      <td>8836719</td>\n",
       "      <td>Shipman, J. This is a bill in equity, based u...</td>\n",
       "      <td>What factors did the court consider in decidin...</td>\n",
       "      <td>What is the process for filing a patent in the...</td>\n",
       "    </tr>\n",
       "    <tr>\n",
       "      <th>4</th>\n",
       "      <td>1771285</td>\n",
       "      <td>452 S.W.2d 490 (1970) Wayne Edward HALL, Appel...</td>\n",
       "      <td>What was the basis for revoking Wayne Edward H...</td>\n",
       "      <td>What are the requirements to obtain a driver's...</td>\n",
       "    </tr>\n",
       "    <tr>\n",
       "      <th>5</th>\n",
       "      <td>1359066</td>\n",
       "      <td>703 P.2d 699 (1985) 108 Idaho 935 Marcilena SH...</td>\n",
       "      <td>What criteria did the Idaho Supreme Court use ...</td>\n",
       "      <td>What are the educational requirements for beco...</td>\n",
       "    </tr>\n",
       "    <tr>\n",
       "      <th>6</th>\n",
       "      <td>2654943</td>\n",
       "      <td>IN THE SUPREME COURT OF THE STATE OF ARIZONA ...</td>\n",
       "      <td>How does Arizona law protect pension benefits ...</td>\n",
       "      <td>What is the process for electing officials in ...</td>\n",
       "    </tr>\n",
       "    <tr>\n",
       "      <th>7</th>\n",
       "      <td>1813170</td>\n",
       "      <td>929 F. Supp. 172 (1996) NEW YORK CITY DEPARTME...</td>\n",
       "      <td>What are the legal grounds for a city to claim...</td>\n",
       "      <td>What are the historical landmarks in New York ...</td>\n",
       "    </tr>\n",
       "    <tr>\n",
       "      <th>8</th>\n",
       "      <td>1186774</td>\n",
       "      <td>405 P.2d 939 (1965) Guy TANNER, Lyal E. Quinby...</td>\n",
       "      <td>What legal standing do residents have to chall...</td>\n",
       "      <td>What is the history of the city of Boulder?</td>\n",
       "    </tr>\n",
       "    <tr>\n",
       "      <th>9</th>\n",
       "      <td>2898711</td>\n",
       "      <td>NO. 07-08-0356-CR IN THE COURT OF APPEALS FOR...</td>\n",
       "      <td>What constitutes a valid claim for disability ...</td>\n",
       "      <td>What are the social implications of insurance ...</td>\n",
       "    </tr>\n",
       "    <tr>\n",
       "      <th>10</th>\n",
       "      <td>3996688</td>\n",
       "      <td>MITCHELL, HOLCOMB, and TOLMAN, JJ., dissent. T...</td>\n",
       "      <td>What are the requirements for receiving credit...</td>\n",
       "      <td>What is the history of the Iowa judicial system?</td>\n",
       "    </tr>\n",
       "    <tr>\n",
       "      <th>11</th>\n",
       "      <td>4252778</td>\n",
       "      <td>IN THE COURT OF APPEALS OF IOWA No. 16-0203 F...</td>\n",
       "      <td>How does double jeopardy affect sentencing aft...</td>\n",
       "      <td>What are the recreational activities available...</td>\n",
       "    </tr>\n",
       "    <tr>\n",
       "      <th>12</th>\n",
       "      <td>4361755</td>\n",
       "      <td>Case: 17-13962 Date Filed: 01/24/2019 Page: 1...</td>\n",
       "      <td>What factors does the court consider when dete...</td>\n",
       "      <td>What is the history of codeine usage in the Un...</td>\n",
       "    </tr>\n",
       "    <tr>\n",
       "      <th>13</th>\n",
       "      <td>1512907</td>\n",
       "      <td>502 F. Supp. 969 (1980) UNITED STATES of Ameri...</td>\n",
       "      <td>What must the government prove to admit witnes...</td>\n",
       "      <td>What are the penalties for illegal possession ...</td>\n",
       "    </tr>\n",
       "    <tr>\n",
       "      <th>14</th>\n",
       "      <td>8211259</td>\n",
       "      <td>COURT OF APPEALS FOR THE FIRST DISTRICT OF TE...</td>\n",
       "      <td>What are the legal implications of a defendant...</td>\n",
       "      <td>How do oil and gas companies operate in the Te...</td>\n",
       "    </tr>\n",
       "    <tr>\n",
       "      <th>15</th>\n",
       "      <td>577210</td>\n",
       "      <td>956 F.2d 65 UNITED STATES of America, Plaintif...</td>\n",
       "      <td>What constitutes obstruction of justice in the...</td>\n",
       "      <td>What are the environmental impacts of firearms...</td>\n",
       "    </tr>\n",
       "  </tbody>\n",
       "</table>\n",
       "</div>"
      ],
      "text/plain": [
       "    opinion_id                                      input_opinion  \\\n",
       "0      6331009  Case: 20-61182 Document: 00516278598 Page: 1 D...   \n",
       "1      6550068   Lawson Cloninger, Judge. Appellant Kenneth Tu...   \n",
       "2      7044144   Bicknell, C. The city of Greencastle had an o...   \n",
       "3      8836719   Shipman, J. This is a bill in equity, based u...   \n",
       "4      1771285  452 S.W.2d 490 (1970) Wayne Edward HALL, Appel...   \n",
       "5      1359066  703 P.2d 699 (1985) 108 Idaho 935 Marcilena SH...   \n",
       "6      2654943   IN THE SUPREME COURT OF THE STATE OF ARIZONA ...   \n",
       "7      1813170  929 F. Supp. 172 (1996) NEW YORK CITY DEPARTME...   \n",
       "8      1186774  405 P.2d 939 (1965) Guy TANNER, Lyal E. Quinby...   \n",
       "9      2898711   NO. 07-08-0356-CR IN THE COURT OF APPEALS FOR...   \n",
       "10     3996688  MITCHELL, HOLCOMB, and TOLMAN, JJ., dissent. T...   \n",
       "11     4252778   IN THE COURT OF APPEALS OF IOWA No. 16-0203 F...   \n",
       "12     4361755   Case: 17-13962 Date Filed: 01/24/2019 Page: 1...   \n",
       "13     1512907  502 F. Supp. 969 (1980) UNITED STATES of Ameri...   \n",
       "14     8211259   COURT OF APPEALS FOR THE FIRST DISTRICT OF TE...   \n",
       "15      577210  956 F.2d 65 UNITED STATES of America, Plaintif...   \n",
       "\n",
       "                                  relevant_query_qstn  \\\n",
       "0   What were the reasons the Fifth Circuit denied...   \n",
       "1   What were the grounds for Kenneth Tucker's app...   \n",
       "2   How did the city of Greencastle handle the imp...   \n",
       "3   What factors did the court consider in decidin...   \n",
       "4   What was the basis for revoking Wayne Edward H...   \n",
       "5   What criteria did the Idaho Supreme Court use ...   \n",
       "6   How does Arizona law protect pension benefits ...   \n",
       "7   What are the legal grounds for a city to claim...   \n",
       "8   What legal standing do residents have to chall...   \n",
       "9   What constitutes a valid claim for disability ...   \n",
       "10  What are the requirements for receiving credit...   \n",
       "11  How does double jeopardy affect sentencing aft...   \n",
       "12  What factors does the court consider when dete...   \n",
       "13  What must the government prove to admit witnes...   \n",
       "14  What are the legal implications of a defendant...   \n",
       "15  What constitutes obstruction of justice in the...   \n",
       "\n",
       "                                irrelevant_query_qstn  \n",
       "0   What is the history of immigration law in the ...  \n",
       "1   What are the steps involved in filing for divo...  \n",
       "2   What are the current laws regarding environmen...  \n",
       "3   What is the process for filing a patent in the...  \n",
       "4   What are the requirements to obtain a driver's...  \n",
       "5   What are the educational requirements for beco...  \n",
       "6   What is the process for electing officials in ...  \n",
       "7   What are the historical landmarks in New York ...  \n",
       "8         What is the history of the city of Boulder?  \n",
       "9   What are the social implications of insurance ...  \n",
       "10   What is the history of the Iowa judicial system?  \n",
       "11  What are the recreational activities available...  \n",
       "12  What is the history of codeine usage in the Un...  \n",
       "13  What are the penalties for illegal possession ...  \n",
       "14  How do oil and gas companies operate in the Te...  \n",
       "15  What are the environmental impacts of firearms...  "
      ]
     },
     "execution_count": 37,
     "metadata": {},
     "output_type": "execute_result"
    }
   ],
   "source": [
    "results_df = pd.DataFrame(rows)\n",
    "results_df"
   ]
  },
  {
   "cell_type": "code",
   "execution_count": 38,
   "id": "e2c8afbd-daaa-4a17-a9a7-aea0c679cea6",
   "metadata": {
    "scrolled": true
   },
   "outputs": [],
   "source": [
    "df = df.merge(results_df, how=\"left\", on=\"opinion_id\", suffixes=('', '_results'))\n",
    "\n",
    "# Replace NaN values in df with corresponding values from results_df\n",
    "for column in results_df.columns:\n",
    "    if column != \"opinion_id\": \n",
    "        df[column] = df[column].fillna(df[column + '_results'])\n",
    "        df.drop(columns=[column + '_results'], inplace=True)"
   ]
  },
  {
   "cell_type": "code",
   "execution_count": 39,
   "id": "ef0abe59-8a69-4acd-bd2d-646fa2cc5772",
   "metadata": {},
   "outputs": [
    {
     "data": {
      "text/plain": [
       "953"
      ]
     },
     "execution_count": 39,
     "metadata": {},
     "output_type": "execute_result"
    }
   ],
   "source": [
    "done = df[~df[\"relevant_query_qstn\"].isna()]\n",
    "len(done)"
   ]
  },
  {
   "cell_type": "markdown",
   "id": "c877c0c5-f9a3-4e6a-b5cf-cf83dabf14a2",
   "metadata": {},
   "source": [
    "# Save the resulting df with generated queries"
   ]
  },
  {
   "cell_type": "code",
   "execution_count": 41,
   "id": "1a5abe0c-1d9f-42ec-b1bd-37666789b4f9",
   "metadata": {},
   "outputs": [],
   "source": [
    "df.to_csv(\"outputs/2b.questions_generated.csv\", index=False)"
   ]
  }
 ],
 "metadata": {
  "kernelspec": {
   "display_name": "Python 3 (ipykernel)",
   "language": "python",
   "name": "python3"
  },
  "language_info": {
   "codemirror_mode": {
    "name": "ipython",
    "version": 3
   },
   "file_extension": ".py",
   "mimetype": "text/x-python",
   "name": "python",
   "nbconvert_exporter": "python",
   "pygments_lexer": "ipython3",
   "version": "3.10.16"
  }
 },
 "nbformat": 4,
 "nbformat_minor": 5
}
