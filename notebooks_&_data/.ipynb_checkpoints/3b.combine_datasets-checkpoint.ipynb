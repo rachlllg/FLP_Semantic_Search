{
 "cells": [
  {
   "cell_type": "markdown",
   "id": "0a6b204f-d1bf-440a-b22d-55b585ec20a1",
   "metadata": {},
   "source": [
    "# Combine the datasets\n",
    "\n",
    "The notebook outlines the steps undertook to combine the datasets from previous steps to create a final dataset. Also split the dataset to train vs test set for downstream tasks."
   ]
  },
  {
   "cell_type": "markdown",
   "id": "1c515248-f1e5-453f-b51d-057691865885",
   "metadata": {},
   "source": [
    "# Import libraries"
   ]
  },
  {
   "cell_type": "code",
   "execution_count": 1,
   "id": "c1d95769-2213-45b7-9a41-296ff9295052",
   "metadata": {},
   "outputs": [],
   "source": [
    "import numpy as np\n",
    "import pandas as pd\n",
    "\n",
    "from sklearn.model_selection import train_test_split"
   ]
  },
  {
   "cell_type": "markdown",
   "id": "5159c6b4-b3f4-496d-b2fb-996fd9d375ad",
   "metadata": {},
   "source": [
    "# Load the data"
   ]
  },
  {
   "cell_type": "code",
   "execution_count": 2,
   "id": "751358de-51a1-4745-ad54-58ef9d0419d9",
   "metadata": {},
   "outputs": [],
   "source": [
    "df = pd.read_csv(\"outputs/1b.opinions_cleaned.csv\")\n",
    "stmt = pd.read_csv(\"outputs/2a.queries_generated.csv\")\n",
    "qstn = pd.read_csv(\"outputs/2b.questions_generated.csv\")"
   ]
  },
  {
   "cell_type": "code",
   "execution_count": 3,
   "id": "234cadda-ede4-4861-9058-08097dc86eb6",
   "metadata": {
    "scrolled": true
   },
   "outputs": [
    {
     "data": {
      "text/plain": [
       "Index(['opinion_id', 'opinion', 'opinion_source', 'opinion_word_count',\n",
       "       'opinion_date_created', 'opinion_type', 'opinion_extracted_by_ocr',\n",
       "       'opinion_per_curiam', 'cluster_id', 'cluster_judges',\n",
       "       'cluster_nature_of_suit', 'cluster_source', 'cluster_blocked',\n",
       "       'cluster_precedential_status', 'cluster_citation_count',\n",
       "       'cluster_case_name', 'cluster_case_name_short',\n",
       "       'cluster_case_name_full', 'cluster_summary', 'cluster_history',\n",
       "       'cluster_headmatter', 'cluster_headnotes', 'cluster_posture',\n",
       "       'cluster_arguments', 'cluster_cross_reference', 'cluster_disposition',\n",
       "       'cluster_syllabus', 'docket_id', 'docket_number', 'docket_view_count',\n",
       "       'court_id', 'court_jurisdiction', 'court_in_use', 'court_short_name',\n",
       "       'court_full_name'],\n",
       "      dtype='object')"
      ]
     },
     "execution_count": 3,
     "metadata": {},
     "output_type": "execute_result"
    }
   ],
   "source": [
    "df.columns"
   ]
  },
  {
   "cell_type": "code",
   "execution_count": 4,
   "id": "7dccbfac-81da-48cd-a38e-47c80f036959",
   "metadata": {},
   "outputs": [
    {
     "data": {
      "text/plain": [
       "Index(['opinion_id', 'opinion', 'opinion_4omini_tokens', 'input_opinion',\n",
       "       'relevant_query_stmt', 'irrelevant_query_stmt'],\n",
       "      dtype='object')"
      ]
     },
     "execution_count": 4,
     "metadata": {},
     "output_type": "execute_result"
    }
   ],
   "source": [
    "stmt.columns"
   ]
  },
  {
   "cell_type": "code",
   "execution_count": 5,
   "id": "fb24a421-06ab-4f0a-9f9c-b300dac8e58c",
   "metadata": {},
   "outputs": [
    {
     "data": {
      "text/plain": [
       "Index(['opinion_id', 'opinion', 'opinion_4omini_tokens', 'input_opinion',\n",
       "       'relevant_query_qstn', 'irrelevant_query_qstn'],\n",
       "      dtype='object')"
      ]
     },
     "execution_count": 5,
     "metadata": {},
     "output_type": "execute_result"
    }
   ],
   "source": [
    "qstn.columns"
   ]
  },
  {
   "cell_type": "markdown",
   "id": "d421ba24-5a0c-408f-b016-08774b79ff38",
   "metadata": {},
   "source": [
    "# Combine the datasets"
   ]
  },
  {
   "cell_type": "code",
   "execution_count": 6,
   "id": "236d1570-f31e-486d-9632-ab2ddd0a801d",
   "metadata": {
    "scrolled": true
   },
   "outputs": [
    {
     "data": {
      "text/plain": [
       "953"
      ]
     },
     "execution_count": 6,
     "metadata": {},
     "output_type": "execute_result"
    }
   ],
   "source": [
    "combined = df.merge(stmt[[\"opinion_id\", \"opinion_4omini_tokens\", 'relevant_query_stmt', 'irrelevant_query_stmt']], how=\"left\", on=\"opinion_id\")\n",
    "combined = combined.merge(qstn[[\"opinion_id\", 'relevant_query_qstn', 'irrelevant_query_qstn']], how=\"left\", on=\"opinion_id\")\n",
    "len(combined)"
   ]
  },
  {
   "cell_type": "code",
   "execution_count": 7,
   "id": "d70e7f02-4733-40bc-aa3f-aef3faf9be08",
   "metadata": {
    "scrolled": true
   },
   "outputs": [
    {
     "data": {
      "text/plain": [
       "Index(['opinion_id', 'opinion', 'opinion_source', 'opinion_word_count',\n",
       "       'opinion_date_created', 'opinion_type', 'opinion_extracted_by_ocr',\n",
       "       'opinion_per_curiam', 'cluster_id', 'cluster_judges',\n",
       "       'cluster_nature_of_suit', 'cluster_source', 'cluster_blocked',\n",
       "       'cluster_precedential_status', 'cluster_citation_count',\n",
       "       'cluster_case_name', 'cluster_case_name_short',\n",
       "       'cluster_case_name_full', 'cluster_summary', 'cluster_history',\n",
       "       'cluster_headmatter', 'cluster_headnotes', 'cluster_posture',\n",
       "       'cluster_arguments', 'cluster_cross_reference', 'cluster_disposition',\n",
       "       'cluster_syllabus', 'docket_id', 'docket_number', 'docket_view_count',\n",
       "       'court_id', 'court_jurisdiction', 'court_in_use', 'court_short_name',\n",
       "       'court_full_name', 'opinion_4omini_tokens', 'relevant_query_stmt',\n",
       "       'irrelevant_query_stmt', 'relevant_query_qstn',\n",
       "       'irrelevant_query_qstn'],\n",
       "      dtype='object')"
      ]
     },
     "execution_count": 7,
     "metadata": {},
     "output_type": "execute_result"
    }
   ],
   "source": [
    "combined.columns"
   ]
  },
  {
   "cell_type": "code",
   "execution_count": 8,
   "id": "71690273-e27f-4a23-9245-30859926e7f9",
   "metadata": {},
   "outputs": [],
   "source": [
    "# Reorder the columns"
   ]
  },
  {
   "cell_type": "code",
   "execution_count": 9,
   "id": "f5a7a06a-da1d-4c68-bc4a-a1e753e75f6d",
   "metadata": {
    "scrolled": true
   },
   "outputs": [
    {
     "data": {
      "text/plain": [
       "Index(['opinion_id', 'opinion', 'opinion_source', 'opinion_word_count',\n",
       "       'opinion_4omini_tokens', 'opinion_date_created', 'opinion_type',\n",
       "       'opinion_extracted_by_ocr', 'opinion_per_curiam', 'cluster_id',\n",
       "       'cluster_judges', 'cluster_nature_of_suit', 'cluster_source',\n",
       "       'cluster_blocked', 'cluster_precedential_status',\n",
       "       'cluster_citation_count', 'cluster_case_name',\n",
       "       'cluster_case_name_short', 'cluster_case_name_full', 'cluster_summary',\n",
       "       'cluster_history', 'cluster_headmatter', 'cluster_headnotes',\n",
       "       'cluster_posture', 'cluster_arguments', 'cluster_cross_reference',\n",
       "       'cluster_disposition', 'cluster_syllabus', 'docket_id', 'docket_number',\n",
       "       'docket_view_count', 'court_id', 'court_jurisdiction', 'court_in_use',\n",
       "       'court_short_name', 'court_full_name', 'relevant_query_stmt',\n",
       "       'irrelevant_query_stmt', 'relevant_query_qstn',\n",
       "       'irrelevant_query_qstn'],\n",
       "      dtype='object')"
      ]
     },
     "execution_count": 9,
     "metadata": {},
     "output_type": "execute_result"
    }
   ],
   "source": [
    "columns = combined.columns.tolist()\n",
    "\n",
    "columns.remove('opinion_4omini_tokens')\n",
    "columns.insert(4, 'opinion_4omini_tokens')\n",
    "\n",
    "combined = combined[columns]\n",
    "combined.columns"
   ]
  },
  {
   "cell_type": "markdown",
   "id": "50563d5a-2c8d-400e-899e-10e330ce6694",
   "metadata": {},
   "source": [
    "# Save the combined & cleaned data"
   ]
  },
  {
   "cell_type": "code",
   "execution_count": 10,
   "id": "0e4793e9-8be9-4d68-a2c1-1124851f4b35",
   "metadata": {},
   "outputs": [],
   "source": [
    "combined.to_csv(\"outputs/3.dataset.csv\", index=False)"
   ]
  },
  {
   "cell_type": "markdown",
   "id": "1e6a4099-9f90-48dd-9542-ff6428656c01",
   "metadata": {},
   "source": [
    "# Split the combined data to train vs test"
   ]
  },
  {
   "cell_type": "code",
   "execution_count": 11,
   "id": "d015791a-0db8-4154-b232-ec900ab16304",
   "metadata": {},
   "outputs": [],
   "source": [
    "train_df, test_df = train_test_split(combined, test_size=450, random_state=42)"
   ]
  },
  {
   "cell_type": "code",
   "execution_count": 12,
   "id": "891876d0-90b2-4888-a7a6-d86bbc58af43",
   "metadata": {},
   "outputs": [
    {
     "data": {
      "text/plain": [
       "503"
      ]
     },
     "execution_count": 12,
     "metadata": {},
     "output_type": "execute_result"
    }
   ],
   "source": [
    "len(train_df)"
   ]
  },
  {
   "cell_type": "code",
   "execution_count": 13,
   "id": "a074f7db-d9ff-4fd1-98b1-703152c4f4cf",
   "metadata": {},
   "outputs": [
    {
     "data": {
      "text/plain": [
       "450"
      ]
     },
     "execution_count": 13,
     "metadata": {},
     "output_type": "execute_result"
    }
   ],
   "source": [
    "len(test_df)"
   ]
  },
  {
   "cell_type": "code",
   "execution_count": 14,
   "id": "d22fcf7b-8503-4849-accf-79b81a270d4f",
   "metadata": {},
   "outputs": [],
   "source": [
    "train_df.to_csv(\"outputs/3.train.csv\", index=False)\n",
    "test_df.to_csv(\"outputs/3.test.csv\", index=False)"
   ]
  }
 ],
 "metadata": {
  "kernelspec": {
   "display_name": "Python 3 (ipykernel)",
   "language": "python",
   "name": "python3"
  },
  "language_info": {
   "codemirror_mode": {
    "name": "ipython",
    "version": 3
   },
   "file_extension": ".py",
   "mimetype": "text/x-python",
   "name": "python",
   "nbconvert_exporter": "python",
   "pygments_lexer": "ipython3",
   "version": "3.10.16"
  }
 },
 "nbformat": 4,
 "nbformat_minor": 5
}
