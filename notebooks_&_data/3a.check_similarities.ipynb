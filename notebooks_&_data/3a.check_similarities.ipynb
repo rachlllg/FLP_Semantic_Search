{
 "cells": [
  {
   "cell_type": "markdown",
   "id": "26009bb0-09ac-4811-9ec4-eb86a74e2805",
   "metadata": {},
   "source": [
    "# Check similarities\n",
    "\n",
    "This notebook outlines the steps I undertook to confirm the relevant queries are more similar to the opinion than the irrelevant queries are."
   ]
  },
  {
   "cell_type": "markdown",
   "id": "5f3f4fbb-b296-4daa-a640-e0b4ac72e662",
   "metadata": {},
   "source": [
    "# Import libraries\n",
    "\n",
    "Restart kernel after installing torch"
   ]
  },
  {
   "cell_type": "code",
   "execution_count": 1,
   "id": "e75cf16e-da8b-4a4d-afa9-5290f85199de",
   "metadata": {
    "scrolled": true
   },
   "outputs": [],
   "source": [
    "#%pip install transformers -q\n",
    "#%pip install torch -q\n",
    "\n",
    "import numpy as np\n",
    "import pandas as pd\n",
    "\n",
    "from transformers import AutoTokenizer, AutoModel\n",
    "from sklearn.feature_extraction.text import TfidfVectorizer"
   ]
  },
  {
   "cell_type": "markdown",
   "id": "1c6bc8f6-5221-49bd-bd38-7a34d606f823",
   "metadata": {},
   "source": [
    "# Global variables"
   ]
  },
  {
   "cell_type": "code",
   "execution_count": 2,
   "id": "ff3c5065-4130-4e3a-b69a-e9fec2a3c398",
   "metadata": {},
   "outputs": [],
   "source": [
    "TOKENIZER = AutoTokenizer.from_pretrained(\"nlpaueb/legal-bert-base-uncased\")\n",
    "MODEL = AutoModel.from_pretrained(\"nlpaueb/legal-bert-base-uncased\")\n",
    "MAX_LENGTH = 512 #max_length for legal-bert model"
   ]
  },
  {
   "cell_type": "markdown",
   "id": "582b2e6a-6b7a-4804-ae21-569e04208977",
   "metadata": {},
   "source": [
    "# Helper functions"
   ]
  },
  {
   "cell_type": "code",
   "execution_count": 3,
   "id": "3dde341d-0850-4e94-89a2-9802293e7b2a",
   "metadata": {},
   "outputs": [],
   "source": [
    "def calculate_cosine(string1, string2):\n",
    "    similarity = np.dot(string1, string2)/np.sqrt(np.dot(string1, string1) * np.dot(string2, string2))\n",
    "    return 0 if np.isnan(similarity) else similarity\n",
    "\n",
    "def get_tfidf_similarity(query, result):\n",
    "    vectorizer = TfidfVectorizer()\n",
    "    model = vectorizer.fit([result])\n",
    "    result_embedding = model.transform([result]).toarray().flatten()\n",
    "    query_embedding = model.transform([query]).toarray().flatten()\n",
    "    return calculate_cosine(query_embedding, result_embedding)\n",
    "    \n",
    "def get_llm_similarity(query, result):\n",
    "    # get the CLS token representing the query sentence from the model\n",
    "    inputs = TOKENIZER(query,\n",
    "                       return_tensors=\"pt\",\n",
    "                       padding='max_length',\n",
    "                       truncation=True, \n",
    "                       max_length=MAX_LENGTH)\n",
    "    outputs = MODEL(**inputs)\n",
    "    query_embedding = outputs.last_hidden_state[0][0].detach().numpy()\n",
    "\n",
    "    # get the CLS token representing the result sentence from the model\n",
    "    inputs = TOKENIZER(result,\n",
    "                       return_tensors=\"pt\",\n",
    "                       padding='max_length',\n",
    "                       truncation=True, \n",
    "                       max_length=MAX_LENGTH)\n",
    "    outputs = MODEL(**inputs)\n",
    "    result_embedding = outputs.last_hidden_state[0][0].detach().numpy()\n",
    "\n",
    "    # calculate the cosine similarity between the two CLS tokens\n",
    "    return calculate_cosine(query_embedding, result_embedding)"
   ]
  },
  {
   "cell_type": "markdown",
   "id": "4f15a4e2-cb32-4658-9a64-6f9bee392eb3",
   "metadata": {},
   "source": [
    "# Load the data"
   ]
  },
  {
   "cell_type": "code",
   "execution_count": 4,
   "id": "446465f0-a68a-450c-aec9-f8ae15882869",
   "metadata": {},
   "outputs": [],
   "source": [
    "stmt = pd.read_csv(\"outputs/2a.queries_generated.csv\")\n",
    "qstn = pd.read_csv(\"outputs/2b.questions_generated.csv\")"
   ]
  },
  {
   "cell_type": "markdown",
   "id": "3c1e3559",
   "metadata": {},
   "source": [
    "# Check query-result sets"
   ]
  },
  {
   "cell_type": "markdown",
   "id": "8a8d7c76-8ed9-45df-bab1-0be71ecab672",
   "metadata": {},
   "source": [
    "## Calculate the cosine similarity based on TF-IDF matrix"
   ]
  },
  {
   "cell_type": "code",
   "execution_count": 5,
   "id": "b31eb0d2-0944-4745-9e05-af2e141c38f3",
   "metadata": {
    "scrolled": true
   },
   "outputs": [
    {
     "name": "stderr",
     "output_type": "stream",
     "text": [
      "/var/folders/rx/3t2jtk8j69j_db_cydq_v6wc0000gn/T/ipykernel_97750/3510576609.py:2: RuntimeWarning: invalid value encountered in scalar divide\n",
      "  similarity = np.dot(string1, string2)/np.sqrt(np.dot(string1, string1) * np.dot(string2, string2))\n",
      "/var/folders/rx/3t2jtk8j69j_db_cydq_v6wc0000gn/T/ipykernel_97750/3510576609.py:2: RuntimeWarning: invalid value encountered in scalar divide\n",
      "  similarity = np.dot(string1, string2)/np.sqrt(np.dot(string1, string1) * np.dot(string2, string2))\n"
     ]
    }
   ],
   "source": [
    "stmt.loc[:, \"relevant_tfidf\"] = stmt.apply(lambda row: get_tfidf_similarity(row[\"relevant_query_stmt\"], row[\"opinion\"]), axis=1)\n",
    "stmt.loc[:, \"irrelevant_tfidf\"] = stmt.apply(lambda row: get_tfidf_similarity(row[\"irrelevant_query_stmt\"], row[\"opinion\"]), axis=1)"
   ]
  },
  {
   "cell_type": "code",
   "execution_count": 6,
   "id": "5ba5e467-970f-49aa-bdbc-dff748fb7a9e",
   "metadata": {
    "scrolled": true
   },
   "outputs": [
    {
     "data": {
      "text/html": [
       "<div>\n",
       "<style scoped>\n",
       "    .dataframe tbody tr th:only-of-type {\n",
       "        vertical-align: middle;\n",
       "    }\n",
       "\n",
       "    .dataframe tbody tr th {\n",
       "        vertical-align: top;\n",
       "    }\n",
       "\n",
       "    .dataframe thead th {\n",
       "        text-align: right;\n",
       "    }\n",
       "</style>\n",
       "<table border=\"1\" class=\"dataframe\">\n",
       "  <thead>\n",
       "    <tr style=\"text-align: right;\">\n",
       "      <th></th>\n",
       "      <th>opinion_id</th>\n",
       "      <th>opinion</th>\n",
       "      <th>opinion_4omini_tokens</th>\n",
       "      <th>input_opinion</th>\n",
       "      <th>relevant_query_stmt</th>\n",
       "      <th>irrelevant_query_stmt</th>\n",
       "      <th>relevant_tfidf</th>\n",
       "      <th>irrelevant_tfidf</th>\n",
       "    </tr>\n",
       "  </thead>\n",
       "  <tbody>\n",
       "    <tr>\n",
       "      <th>0</th>\n",
       "      <td>444587</td>\n",
       "      <td>748 F.2d 972 UNITED STATES of America, Plainti...</td>\n",
       "      <td>1873</td>\n",
       "      <td>748 F.2d 972 UNITED STATES of America, Plainti...</td>\n",
       "      <td>Juan Jose Velasquez appeal of sentence correct...</td>\n",
       "      <td>Procedural rules in civil cases</td>\n",
       "      <td>0.280198</td>\n",
       "      <td>0.111282</td>\n",
       "    </tr>\n",
       "    <tr>\n",
       "      <th>1</th>\n",
       "      <td>9410469</td>\n",
       "      <td>Nebraska Supreme Court Online Library www.nebr...</td>\n",
       "      <td>11223</td>\n",
       "      <td>Nebraska Supreme Court Online Library www.nebr...</td>\n",
       "      <td>Landlord tenant law and eviction rules in Nebr...</td>\n",
       "      <td>Criminal sentencing and appeals</td>\n",
       "      <td>0.218676</td>\n",
       "      <td>0.108140</td>\n",
       "    </tr>\n",
       "    <tr>\n",
       "      <th>2</th>\n",
       "      <td>714663</td>\n",
       "      <td>78 F.3d 599 U.S. v. Johnston ** NO. 94-2273 Un...</td>\n",
       "      <td>85</td>\n",
       "      <td>78 F.3d 599 U.S. v. Johnston ** NO. 94-2273 Un...</td>\n",
       "      <td>Sufficiency of evidence in aggravated assault ...</td>\n",
       "      <td>Commercial contract disputes</td>\n",
       "      <td>0.174078</td>\n",
       "      <td>0.000000</td>\n",
       "    </tr>\n",
       "    <tr>\n",
       "      <th>3</th>\n",
       "      <td>2729050</td>\n",
       "      <td>Pursuant to Ind. Appellate Rule 65(D), this Me...</td>\n",
       "      <td>6099</td>\n",
       "      <td>Pursuant to Ind. Appellate Rule 65(D), this Me...</td>\n",
       "      <td>Conviction for felony dealing with cocaine bas...</td>\n",
       "      <td>Child custody disputes</td>\n",
       "      <td>0.140683</td>\n",
       "      <td>0.000000</td>\n",
       "    </tr>\n",
       "    <tr>\n",
       "      <th>4</th>\n",
       "      <td>692963</td>\n",
       "      <td>51 F.3d 288 311 U.S.App.D.C. 145 UNITED STATES...</td>\n",
       "      <td>5918</td>\n",
       "      <td>51 F.3d 288 311 U.S.App.D.C. 145 UNITED STATES...</td>\n",
       "      <td>Possession of instruments for making false ide...</td>\n",
       "      <td>Real estate contract disputes</td>\n",
       "      <td>0.195962</td>\n",
       "      <td>0.004313</td>\n",
       "    </tr>\n",
       "  </tbody>\n",
       "</table>\n",
       "</div>"
      ],
      "text/plain": [
       "   opinion_id                                            opinion  \\\n",
       "0      444587  748 F.2d 972 UNITED STATES of America, Plainti...   \n",
       "1     9410469  Nebraska Supreme Court Online Library www.nebr...   \n",
       "2      714663  78 F.3d 599 U.S. v. Johnston ** NO. 94-2273 Un...   \n",
       "3     2729050  Pursuant to Ind. Appellate Rule 65(D), this Me...   \n",
       "4      692963  51 F.3d 288 311 U.S.App.D.C. 145 UNITED STATES...   \n",
       "\n",
       "   opinion_4omini_tokens                                      input_opinion  \\\n",
       "0                   1873  748 F.2d 972 UNITED STATES of America, Plainti...   \n",
       "1                  11223  Nebraska Supreme Court Online Library www.nebr...   \n",
       "2                     85  78 F.3d 599 U.S. v. Johnston ** NO. 94-2273 Un...   \n",
       "3                   6099  Pursuant to Ind. Appellate Rule 65(D), this Me...   \n",
       "4                   5918  51 F.3d 288 311 U.S.App.D.C. 145 UNITED STATES...   \n",
       "\n",
       "                                 relevant_query_stmt  \\\n",
       "0  Juan Jose Velasquez appeal of sentence correct...   \n",
       "1  Landlord tenant law and eviction rules in Nebr...   \n",
       "2  Sufficiency of evidence in aggravated assault ...   \n",
       "3  Conviction for felony dealing with cocaine bas...   \n",
       "4  Possession of instruments for making false ide...   \n",
       "\n",
       "             irrelevant_query_stmt  relevant_tfidf  irrelevant_tfidf  \n",
       "0  Procedural rules in civil cases        0.280198          0.111282  \n",
       "1  Criminal sentencing and appeals        0.218676          0.108140  \n",
       "2     Commercial contract disputes        0.174078          0.000000  \n",
       "3           Child custody disputes        0.140683          0.000000  \n",
       "4    Real estate contract disputes        0.195962          0.004313  "
      ]
     },
     "execution_count": 6,
     "metadata": {},
     "output_type": "execute_result"
    }
   ],
   "source": [
    "stmt.head()"
   ]
  },
  {
   "cell_type": "markdown",
   "id": "4b699f2c-ebb8-4d29-9f0c-ebd86c136b3b",
   "metadata": {},
   "source": [
    "## Use Legal-Bert as double check"
   ]
  },
  {
   "cell_type": "code",
   "execution_count": 7,
   "id": "0011c2ea-ea12-4b9e-b66c-9b420e88e33d",
   "metadata": {
    "scrolled": true
   },
   "outputs": [
    {
     "data": {
      "text/plain": [
       "163"
      ]
     },
     "execution_count": 7,
     "metadata": {},
     "output_type": "execute_result"
    }
   ],
   "source": [
    "double_check = stmt[stmt[\"relevant_tfidf\"] < stmt[\"irrelevant_tfidf\"]]\n",
    "len(double_check)"
   ]
  },
  {
   "cell_type": "code",
   "execution_count": 8,
   "id": "273d8218-fa32-4ce0-906a-a63d928a45f8",
   "metadata": {
    "scrolled": true
   },
   "outputs": [
    {
     "name": "stderr",
     "output_type": "stream",
     "text": [
      "/var/folders/rx/3t2jtk8j69j_db_cydq_v6wc0000gn/T/ipykernel_97750/3996324134.py:1: SettingWithCopyWarning: \n",
      "A value is trying to be set on a copy of a slice from a DataFrame.\n",
      "Try using .loc[row_indexer,col_indexer] = value instead\n",
      "\n",
      "See the caveats in the documentation: https://pandas.pydata.org/pandas-docs/stable/user_guide/indexing.html#returning-a-view-versus-a-copy\n",
      "  double_check.loc[:, \"relevant_llm\"] = double_check.apply(lambda row: get_llm_similarity(row[\"relevant_query_stmt\"], row[\"opinion\"]), axis=1)\n",
      "/var/folders/rx/3t2jtk8j69j_db_cydq_v6wc0000gn/T/ipykernel_97750/3996324134.py:2: SettingWithCopyWarning: \n",
      "A value is trying to be set on a copy of a slice from a DataFrame.\n",
      "Try using .loc[row_indexer,col_indexer] = value instead\n",
      "\n",
      "See the caveats in the documentation: https://pandas.pydata.org/pandas-docs/stable/user_guide/indexing.html#returning-a-view-versus-a-copy\n",
      "  double_check.loc[:, \"irrelevant_llm\"] = double_check.apply(lambda row: get_llm_similarity(row[\"irrelevant_query_stmt\"], row[\"opinion\"]), axis=1)\n"
     ]
    }
   ],
   "source": [
    "double_check.loc[:, \"relevant_llm\"] = double_check.apply(lambda row: get_llm_similarity(row[\"relevant_query_stmt\"], row[\"opinion\"]), axis=1)\n",
    "double_check.loc[:, \"irrelevant_llm\"] = double_check.apply(lambda row: get_llm_similarity(row[\"irrelevant_query_stmt\"], row[\"opinion\"]), axis=1)"
   ]
  },
  {
   "cell_type": "markdown",
   "id": "5862f921-80ab-4a6f-9551-b396c99bb0eb",
   "metadata": {},
   "source": [
    "## Manual check"
   ]
  },
  {
   "cell_type": "code",
   "execution_count": 9,
   "id": "28125be2-7015-4566-b90b-abaa2c6057a6",
   "metadata": {},
   "outputs": [
    {
     "data": {
      "text/plain": [
       "57"
      ]
     },
     "execution_count": 9,
     "metadata": {},
     "output_type": "execute_result"
    }
   ],
   "source": [
    "manual_check = double_check[double_check[\"relevant_llm\"] < double_check[\"irrelevant_llm\"]]\n",
    "len(manual_check)"
   ]
  },
  {
   "cell_type": "code",
   "execution_count": 10,
   "id": "44384b3e-8e1a-4860-b20a-e66d0fa9a73a",
   "metadata": {
    "scrolled": true
   },
   "outputs": [
    {
     "data": {
      "text/html": [
       "<div>\n",
       "<style scoped>\n",
       "    .dataframe tbody tr th:only-of-type {\n",
       "        vertical-align: middle;\n",
       "    }\n",
       "\n",
       "    .dataframe tbody tr th {\n",
       "        vertical-align: top;\n",
       "    }\n",
       "\n",
       "    .dataframe thead th {\n",
       "        text-align: right;\n",
       "    }\n",
       "</style>\n",
       "<table border=\"1\" class=\"dataframe\">\n",
       "  <thead>\n",
       "    <tr style=\"text-align: right;\">\n",
       "      <th></th>\n",
       "      <th>opinion</th>\n",
       "      <th>relevant_query_stmt</th>\n",
       "      <th>irrelevant_query_stmt</th>\n",
       "    </tr>\n",
       "  </thead>\n",
       "  <tbody>\n",
       "    <tr>\n",
       "      <th>12</th>\n",
       "      <td>NOT PRECEDENTIAL UNITED STATES COURT OF APPEA...</td>\n",
       "      <td>United States Sentencing Guidelines applicatio...</td>\n",
       "      <td>Federal tax laws and their application to chil...</td>\n",
       "    </tr>\n",
       "    <tr>\n",
       "      <th>103</th>\n",
       "      <td>Joyce Brown, a Kentucky resident proceeding p...</td>\n",
       "      <td>IRS levy and wrongful seizure case under vario...</td>\n",
       "      <td>Compensation case related to industrial accident.</td>\n",
       "    </tr>\n",
       "    <tr>\n",
       "      <th>428</th>\n",
       "      <td>i i i i i i MEMORANDUM OPINION No. 04-10-00519...</td>\n",
       "      <td>Mandamus denied in habeas corpus proceeding Texas</td>\n",
       "      <td>Petition for a divorce ruling</td>\n",
       "    </tr>\n",
       "    <tr>\n",
       "      <th>229</th>\n",
       "      <td>The following order has been entered on the mo...</td>\n",
       "      <td>Order dismissing charges as per NC Appellate P...</td>\n",
       "      <td>Request for retrial in a traffic violation case</td>\n",
       "    </tr>\n",
       "    <tr>\n",
       "      <th>498</th>\n",
       "      <td>122 Mich. App. 449 (1983) 332 N.W.2d 501 BULLA...</td>\n",
       "      <td>Workers' compensation dependency determination...</td>\n",
       "      <td>Construction and building regulations Michigan...</td>\n",
       "    </tr>\n",
       "  </tbody>\n",
       "</table>\n",
       "</div>"
      ],
      "text/plain": [
       "                                               opinion  \\\n",
       "12    NOT PRECEDENTIAL UNITED STATES COURT OF APPEA...   \n",
       "103   Joyce Brown, a Kentucky resident proceeding p...   \n",
       "428  i i i i i i MEMORANDUM OPINION No. 04-10-00519...   \n",
       "229  The following order has been entered on the mo...   \n",
       "498  122 Mich. App. 449 (1983) 332 N.W.2d 501 BULLA...   \n",
       "\n",
       "                                   relevant_query_stmt  \\\n",
       "12   United States Sentencing Guidelines applicatio...   \n",
       "103  IRS levy and wrongful seizure case under vario...   \n",
       "428  Mandamus denied in habeas corpus proceeding Texas   \n",
       "229  Order dismissing charges as per NC Appellate P...   \n",
       "498  Workers' compensation dependency determination...   \n",
       "\n",
       "                                 irrelevant_query_stmt  \n",
       "12   Federal tax laws and their application to chil...  \n",
       "103  Compensation case related to industrial accident.  \n",
       "428                      Petition for a divorce ruling  \n",
       "229    Request for retrial in a traffic violation case  \n",
       "498  Construction and building regulations Michigan...  "
      ]
     },
     "execution_count": 10,
     "metadata": {},
     "output_type": "execute_result"
    }
   ],
   "source": [
    "manual_review = manual_check.sample(5, random_state=42)[[\"opinion\", \"relevant_query_stmt\", \"irrelevant_query_stmt\"]]\n",
    "manual_review"
   ]
  },
  {
   "cell_type": "code",
   "execution_count": 24,
   "id": "1b70bf79-a81b-4241-a1bb-cc5425fa2399",
   "metadata": {},
   "outputs": [
    {
     "data": {
      "text/plain": [
       "\"Workers' compensation dependency determination Michigan case\""
      ]
     },
     "execution_count": 24,
     "metadata": {},
     "output_type": "execute_result"
    }
   ],
   "source": [
    "manual_review.iloc[4][\"relevant_query_stmt\"]"
   ]
  },
  {
   "cell_type": "code",
   "execution_count": 25,
   "id": "d6f08d50-2cb1-4a80-8ebd-4095b51f296e",
   "metadata": {},
   "outputs": [
    {
     "data": {
      "text/plain": [
       "'Construction and building regulations Michigan opinion'"
      ]
     },
     "execution_count": 25,
     "metadata": {},
     "output_type": "execute_result"
    }
   ],
   "source": [
    "manual_review.iloc[4][\"irrelevant_query_stmt\"]"
   ]
  },
  {
   "cell_type": "code",
   "execution_count": 26,
   "id": "c4886108-fe20-4e2a-9d49-fb94b99a8b57",
   "metadata": {
    "scrolled": true
   },
   "outputs": [
    {
     "data": {
      "text/plain": [
       "\"122 Mich. App. 449 (1983) 332 N.W.2d 501 BULLARD v. TITUS CONSTRUCTION COMPANY Docket No. 56153. Michigan Court of Appeals. Decided January 19, 1983. Williams, Klukowski, Wood, Drew & Fotieo, P.C. (by Stephen R. Drew and Ronald C. Love), for plaintiff-appellee. Smith, Haughey, Rice & Roegge (by Craig R. Noland), for Titus Construction Company and Hartford Accident and Indemnity Company. Cholette, Perkins & Buchanan (by Edward D. Wells), for A.F. Murch Company and Pacific Employers Insurance Company. *451 Before: MacKENZIE, P.J., and D.E. HOLBROOK, JR., and D.S. DEWITT, [*] JJ. (ON REHEARING) D.S. DEWITT, J. We granted defendants A.F. Murch Company's and Pacific Employers Insurance Company's application for rehearing in this case to consider whether we incorrectly ordered the case remanded to the Workers' Compensation Appeal Board for a determination of whether plaintiff's two stepchildren are dependents in fact. We now conclude that remand was unnecessary. In this Court's original opinion, 118 Mich App 631 ; 325 NW2d 521 (1982), we concluded that plaintiff's two stepchildren did not fit within the conclusive presumption of dependency set forth in MCL 418.353(1)(a)(ii); MSA 17.237(353)(1)(a)(ii). However, MCL 418.353(3); MSA 17.237(353)(3) only permits an increase in the amount of disability payments when the number of conclusive dependents increases following the employee's injury. The statute does not provide for an increase for those dependent in fact upon the injured employee. Therefore, it is irrelevant, for purposes of an increase, whether plaintiff's children are, in fact, dependent upon him. Furthermore, under Gusler v Fairview Tubular Products, 412 Mich 270 ; 315 NW2d 388 (1981), reh gtd 414 Mich 1102 ; 323 NW2d 909 (1982), the issue of dependency is now moot. Gusler holds that only the maximum benefit is adjustable. Thus, plaintiff's benefits will not exceed two-thirds of plaintiff's average weekly wage irrespective of whether plaintiff has none or three dependents. The order remanding this case to the appeal board for a determination of whether plaintiff's children are dependents in fact is vacated. This case is remanded to the appeal board for further proceedings not inconsistent with this opinion. NOTES [*] Circuit judge, sitting on the Court of Appeals by assignment.\""
      ]
     },
     "execution_count": 26,
     "metadata": {},
     "output_type": "execute_result"
    }
   ],
   "source": [
    "manual_review.iloc[4][\"opinion\"]"
   ]
  },
  {
   "cell_type": "markdown",
   "id": "be96c58a",
   "metadata": {},
   "source": [
    "# Check question-result sets"
   ]
  },
  {
   "cell_type": "markdown",
   "id": "d7631ba3",
   "metadata": {},
   "source": [
    "## Calculate the cosine similarity based on TF-IDF matrix"
   ]
  },
  {
   "cell_type": "code",
   "execution_count": 27,
   "id": "ad0af9c9",
   "metadata": {},
   "outputs": [
    {
     "name": "stderr",
     "output_type": "stream",
     "text": [
      "/var/folders/rx/3t2jtk8j69j_db_cydq_v6wc0000gn/T/ipykernel_97750/3510576609.py:2: RuntimeWarning: invalid value encountered in scalar divide\n",
      "  similarity = np.dot(string1, string2)/np.sqrt(np.dot(string1, string1) * np.dot(string2, string2))\n",
      "/var/folders/rx/3t2jtk8j69j_db_cydq_v6wc0000gn/T/ipykernel_97750/3510576609.py:2: RuntimeWarning: invalid value encountered in scalar divide\n",
      "  similarity = np.dot(string1, string2)/np.sqrt(np.dot(string1, string1) * np.dot(string2, string2))\n"
     ]
    }
   ],
   "source": [
    "qstn.loc[:, \"relevant_tfidf\"] = qstn.apply(lambda row: get_tfidf_similarity(row[\"relevant_query_qstn\"], row[\"opinion\"]), axis=1)\n",
    "qstn.loc[:, \"irrelevant_tfidf\"] = qstn.apply(lambda row: get_tfidf_similarity(row[\"irrelevant_query_qstn\"], row[\"opinion\"]), axis=1)"
   ]
  },
  {
   "cell_type": "code",
   "execution_count": 28,
   "id": "a91c0ba8",
   "metadata": {
    "scrolled": true
   },
   "outputs": [
    {
     "data": {
      "text/html": [
       "<div>\n",
       "<style scoped>\n",
       "    .dataframe tbody tr th:only-of-type {\n",
       "        vertical-align: middle;\n",
       "    }\n",
       "\n",
       "    .dataframe tbody tr th {\n",
       "        vertical-align: top;\n",
       "    }\n",
       "\n",
       "    .dataframe thead th {\n",
       "        text-align: right;\n",
       "    }\n",
       "</style>\n",
       "<table border=\"1\" class=\"dataframe\">\n",
       "  <thead>\n",
       "    <tr style=\"text-align: right;\">\n",
       "      <th></th>\n",
       "      <th>opinion_id</th>\n",
       "      <th>opinion</th>\n",
       "      <th>opinion_4omini_tokens</th>\n",
       "      <th>input_opinion</th>\n",
       "      <th>relevant_query_qstn</th>\n",
       "      <th>irrelevant_query_qstn</th>\n",
       "      <th>relevant_tfidf</th>\n",
       "      <th>irrelevant_tfidf</th>\n",
       "    </tr>\n",
       "  </thead>\n",
       "  <tbody>\n",
       "    <tr>\n",
       "      <th>0</th>\n",
       "      <td>444587</td>\n",
       "      <td>748 F.2d 972 UNITED STATES of America, Plainti...</td>\n",
       "      <td>1873</td>\n",
       "      <td>748 F.2d 972 UNITED STATES of America, Plainti...</td>\n",
       "      <td>What are the legal grounds for vacating and re...</td>\n",
       "      <td>What is the history of illegal immigration in ...</td>\n",
       "      <td>0.470931</td>\n",
       "      <td>0.663938</td>\n",
       "    </tr>\n",
       "    <tr>\n",
       "      <th>1</th>\n",
       "      <td>9410469</td>\n",
       "      <td>Nebraska Supreme Court Online Library www.nebr...</td>\n",
       "      <td>11223</td>\n",
       "      <td>Nebraska Supreme Court Online Library www.nebr...</td>\n",
       "      <td>What are the implications of mootness in legal...</td>\n",
       "      <td>What are the steps to forming a business in Ne...</td>\n",
       "      <td>0.442592</td>\n",
       "      <td>0.528665</td>\n",
       "    </tr>\n",
       "    <tr>\n",
       "      <th>2</th>\n",
       "      <td>714663</td>\n",
       "      <td>78 F.3d 599 U.S. v. Johnston ** NO. 94-2273 Un...</td>\n",
       "      <td>85</td>\n",
       "      <td>78 F.3d 599 U.S. v. Johnston ** NO. 94-2273 Un...</td>\n",
       "      <td>What elements constitute the crime of making f...</td>\n",
       "      <td>What are the latest trends in environmental la...</td>\n",
       "      <td>0.174078</td>\n",
       "      <td>0.000000</td>\n",
       "    </tr>\n",
       "    <tr>\n",
       "      <th>3</th>\n",
       "      <td>2729050</td>\n",
       "      <td>Pursuant to Ind. Appellate Rule 65(D), this Me...</td>\n",
       "      <td>6099</td>\n",
       "      <td>Pursuant to Ind. Appellate Rule 65(D), this Me...</td>\n",
       "      <td>What constitutes sufficient evidence to sustai...</td>\n",
       "      <td>How do zoning laws affect urban development?</td>\n",
       "      <td>0.218522</td>\n",
       "      <td>0.013550</td>\n",
       "    </tr>\n",
       "    <tr>\n",
       "      <th>4</th>\n",
       "      <td>692963</td>\n",
       "      <td>51 F.3d 288 311 U.S.App.D.C. 145 UNITED STATES...</td>\n",
       "      <td>5918</td>\n",
       "      <td>51 F.3d 288 311 U.S.App.D.C. 145 UNITED STATES...</td>\n",
       "      <td>What qualifies as an 'identification document'...</td>\n",
       "      <td>What are the regulations concerning restaurant...</td>\n",
       "      <td>0.133713</td>\n",
       "      <td>0.380651</td>\n",
       "    </tr>\n",
       "  </tbody>\n",
       "</table>\n",
       "</div>"
      ],
      "text/plain": [
       "   opinion_id                                            opinion  \\\n",
       "0      444587  748 F.2d 972 UNITED STATES of America, Plainti...   \n",
       "1     9410469  Nebraska Supreme Court Online Library www.nebr...   \n",
       "2      714663  78 F.3d 599 U.S. v. Johnston ** NO. 94-2273 Un...   \n",
       "3     2729050  Pursuant to Ind. Appellate Rule 65(D), this Me...   \n",
       "4      692963  51 F.3d 288 311 U.S.App.D.C. 145 UNITED STATES...   \n",
       "\n",
       "   opinion_4omini_tokens                                      input_opinion  \\\n",
       "0                   1873  748 F.2d 972 UNITED STATES of America, Plainti...   \n",
       "1                  11223  Nebraska Supreme Court Online Library www.nebr...   \n",
       "2                     85  78 F.3d 599 U.S. v. Johnston ** NO. 94-2273 Un...   \n",
       "3                   6099  Pursuant to Ind. Appellate Rule 65(D), this Me...   \n",
       "4                   5918  51 F.3d 288 311 U.S.App.D.C. 145 UNITED STATES...   \n",
       "\n",
       "                                 relevant_query_qstn  \\\n",
       "0  What are the legal grounds for vacating and re...   \n",
       "1  What are the implications of mootness in legal...   \n",
       "2  What elements constitute the crime of making f...   \n",
       "3  What constitutes sufficient evidence to sustai...   \n",
       "4  What qualifies as an 'identification document'...   \n",
       "\n",
       "                               irrelevant_query_qstn  relevant_tfidf  \\\n",
       "0  What is the history of illegal immigration in ...        0.470931   \n",
       "1  What are the steps to forming a business in Ne...        0.442592   \n",
       "2  What are the latest trends in environmental la...        0.174078   \n",
       "3       How do zoning laws affect urban development?        0.218522   \n",
       "4  What are the regulations concerning restaurant...        0.133713   \n",
       "\n",
       "   irrelevant_tfidf  \n",
       "0          0.663938  \n",
       "1          0.528665  \n",
       "2          0.000000  \n",
       "3          0.013550  \n",
       "4          0.380651  "
      ]
     },
     "execution_count": 28,
     "metadata": {},
     "output_type": "execute_result"
    }
   ],
   "source": [
    "qstn.head()"
   ]
  },
  {
   "cell_type": "markdown",
   "id": "ef866544",
   "metadata": {},
   "source": [
    "## Use Legal-Bert as double check"
   ]
  },
  {
   "cell_type": "code",
   "execution_count": 29,
   "id": "272fb5af",
   "metadata": {},
   "outputs": [
    {
     "data": {
      "text/plain": [
       "366"
      ]
     },
     "execution_count": 29,
     "metadata": {},
     "output_type": "execute_result"
    }
   ],
   "source": [
    "double_check = qstn[qstn[\"relevant_tfidf\"] < qstn[\"irrelevant_tfidf\"]]\n",
    "len(double_check)"
   ]
  },
  {
   "cell_type": "code",
   "execution_count": 30,
   "id": "64697502",
   "metadata": {
    "scrolled": true
   },
   "outputs": [
    {
     "name": "stderr",
     "output_type": "stream",
     "text": [
      "/var/folders/rx/3t2jtk8j69j_db_cydq_v6wc0000gn/T/ipykernel_97750/1944467970.py:1: SettingWithCopyWarning: \n",
      "A value is trying to be set on a copy of a slice from a DataFrame.\n",
      "Try using .loc[row_indexer,col_indexer] = value instead\n",
      "\n",
      "See the caveats in the documentation: https://pandas.pydata.org/pandas-docs/stable/user_guide/indexing.html#returning-a-view-versus-a-copy\n",
      "  double_check.loc[:, \"relevant_llm\"] = double_check.apply(lambda row: get_llm_similarity(row[\"relevant_query_qstn\"], row[\"opinion\"]), axis=1)\n",
      "/var/folders/rx/3t2jtk8j69j_db_cydq_v6wc0000gn/T/ipykernel_97750/1944467970.py:2: SettingWithCopyWarning: \n",
      "A value is trying to be set on a copy of a slice from a DataFrame.\n",
      "Try using .loc[row_indexer,col_indexer] = value instead\n",
      "\n",
      "See the caveats in the documentation: https://pandas.pydata.org/pandas-docs/stable/user_guide/indexing.html#returning-a-view-versus-a-copy\n",
      "  double_check.loc[:, \"irrelevant_llm\"] = double_check.apply(lambda row: get_llm_similarity(row[\"irrelevant_query_qstn\"], row[\"opinion\"]), axis=1)\n"
     ]
    }
   ],
   "source": [
    "double_check.loc[:, \"relevant_llm\"] = double_check.apply(lambda row: get_llm_similarity(row[\"relevant_query_qstn\"], row[\"opinion\"]), axis=1)\n",
    "double_check.loc[:, \"irrelevant_llm\"] = double_check.apply(lambda row: get_llm_similarity(row[\"irrelevant_query_qstn\"], row[\"opinion\"]), axis=1)"
   ]
  },
  {
   "cell_type": "markdown",
   "id": "5796bc25",
   "metadata": {},
   "source": [
    "## Manual check"
   ]
  },
  {
   "cell_type": "code",
   "execution_count": 31,
   "id": "81197259",
   "metadata": {},
   "outputs": [
    {
     "data": {
      "text/plain": [
       "107"
      ]
     },
     "execution_count": 31,
     "metadata": {},
     "output_type": "execute_result"
    }
   ],
   "source": [
    "manual_check = double_check[double_check[\"relevant_llm\"] < double_check[\"irrelevant_llm\"]]\n",
    "len(manual_check)"
   ]
  },
  {
   "cell_type": "code",
   "execution_count": 39,
   "id": "8bc6452d",
   "metadata": {},
   "outputs": [
    {
     "data": {
      "text/html": [
       "<div>\n",
       "<style scoped>\n",
       "    .dataframe tbody tr th:only-of-type {\n",
       "        vertical-align: middle;\n",
       "    }\n",
       "\n",
       "    .dataframe tbody tr th {\n",
       "        vertical-align: top;\n",
       "    }\n",
       "\n",
       "    .dataframe thead th {\n",
       "        text-align: right;\n",
       "    }\n",
       "</style>\n",
       "<table border=\"1\" class=\"dataframe\">\n",
       "  <thead>\n",
       "    <tr style=\"text-align: right;\">\n",
       "      <th></th>\n",
       "      <th>opinion</th>\n",
       "      <th>relevant_query_qstn</th>\n",
       "      <th>irrelevant_query_qstn</th>\n",
       "    </tr>\n",
       "  </thead>\n",
       "  <tbody>\n",
       "    <tr>\n",
       "      <th>676</th>\n",
       "      <td>UNITED STATES DISTRICT COURT FOR THE DISTRICT...</td>\n",
       "      <td>What legal rights do individuals have when int...</td>\n",
       "      <td>What are the personal preferences for seafood ...</td>\n",
       "    </tr>\n",
       "    <tr>\n",
       "      <th>92</th>\n",
       "      <td>BUTTLER, P. J. Claimant seeks judicial review...</td>\n",
       "      <td>What factors determine a claimant's eligibilit...</td>\n",
       "      <td>What are the historical origins of labor union...</td>\n",
       "    </tr>\n",
       "    <tr>\n",
       "      <th>20</th>\n",
       "      <td>Wilde J. _ _ delivered the opinion of the Cou...</td>\n",
       "      <td>What constitutes sufficient consideration for ...</td>\n",
       "      <td>What are the implications of bankruptcy on cor...</td>\n",
       "    </tr>\n",
       "    <tr>\n",
       "      <th>865</th>\n",
       "      <td>PLUMMER, J. The appellant was convicted upon ...</td>\n",
       "      <td>What evidence was presented to support the con...</td>\n",
       "      <td>What are the historical origins of cannabis us...</td>\n",
       "    </tr>\n",
       "    <tr>\n",
       "      <th>631</th>\n",
       "      <td>Hon. William G. Connelie Superintendent State ...</td>\n",
       "      <td>Can the District Attorney delegate prosecutori...</td>\n",
       "      <td>What are the historical cases involving land a...</td>\n",
       "    </tr>\n",
       "  </tbody>\n",
       "</table>\n",
       "</div>"
      ],
      "text/plain": [
       "                                               opinion  \\\n",
       "676   UNITED STATES DISTRICT COURT FOR THE DISTRICT...   \n",
       "92    BUTTLER, P. J. Claimant seeks judicial review...   \n",
       "20    Wilde J. _ _ delivered the opinion of the Cou...   \n",
       "865   PLUMMER, J. The appellant was convicted upon ...   \n",
       "631  Hon. William G. Connelie Superintendent State ...   \n",
       "\n",
       "                                   relevant_query_qstn  \\\n",
       "676  What legal rights do individuals have when int...   \n",
       "92   What factors determine a claimant's eligibilit...   \n",
       "20   What constitutes sufficient consideration for ...   \n",
       "865  What evidence was presented to support the con...   \n",
       "631  Can the District Attorney delegate prosecutori...   \n",
       "\n",
       "                                 irrelevant_query_qstn  \n",
       "676  What are the personal preferences for seafood ...  \n",
       "92   What are the historical origins of labor union...  \n",
       "20   What are the implications of bankruptcy on cor...  \n",
       "865  What are the historical origins of cannabis us...  \n",
       "631  What are the historical cases involving land a...  "
      ]
     },
     "execution_count": 39,
     "metadata": {},
     "output_type": "execute_result"
    }
   ],
   "source": [
    "manual_review = manual_check.sample(5, random_state=42)[[\"opinion\", \"relevant_query_qstn\", \"irrelevant_query_qstn\"]]\n",
    "manual_review"
   ]
  },
  {
   "cell_type": "code",
   "execution_count": 52,
   "id": "7fd14520-fbf8-410a-a7e1-ef727276f609",
   "metadata": {},
   "outputs": [
    {
     "data": {
      "text/plain": [
       "'Can the District Attorney delegate prosecutorial duties to a police officer for petty offenses?'"
      ]
     },
     "execution_count": 52,
     "metadata": {},
     "output_type": "execute_result"
    }
   ],
   "source": [
    "manual_review.iloc[4][\"relevant_query_qstn\"]"
   ]
  },
  {
   "cell_type": "code",
   "execution_count": 53,
   "id": "46233dce-5821-47ef-800d-7abb512ec6bd",
   "metadata": {},
   "outputs": [
    {
     "data": {
      "text/plain": [
       "'What are the historical cases involving land acquisitions in New Jersey?'"
      ]
     },
     "execution_count": 53,
     "metadata": {},
     "output_type": "execute_result"
    }
   ],
   "source": [
    "manual_review.iloc[4][\"irrelevant_query_qstn\"]"
   ]
  },
  {
   "cell_type": "code",
   "execution_count": 54,
   "id": "2d38266e-3011-40c9-9faf-32af2bab62f0",
   "metadata": {
    "scrolled": true
   },
   "outputs": [
    {
     "data": {
      "text/plain": [
       "'Hon. William G. Connelie Superintendent State Police This response is in answer to the two questions you pose in your letter dated May 7, 1979. In your first question you ask whether a District Attorney may delegate his duty to conduct all prosecutions for petty offenses cognizable by the local courts of his county to the police officer who was either the arresting officer or the complainant upon the accusatory instrument. Section 700 (1) of the County Law provides that the District Attorney has a duty to prosecute all crimes and offenses cognizable by the courts of his county. Section 10 of the Penal Law defines an \"offense\" as conduct punishable by imprisonment or by a fine as provided by any State law, any local law, or any order or regulation of any governmental instrumentality authorized by law to adopt such a regulation. The court of Appeals in People v Van Sickle, 13 N.Y.2d 61 (1963) ruled that a lay complaining witness may conduct a prosecution, but that the District Attorney must carry the responsibility and must provide a system whereby he knows of all the criminal prosecutions in his county and either appears therein in person or by assistants or consents to appearance on his behalf by other public officers or private attorneys. From section 700 (1) of the County Law, section 10 of the Penal Law and the ruling in Van Sickle, it may be concluded that while the District Attorney is responsible for all prosecutions in the county, he may consent to have prosecutions for petty offenses in the local courts of his county conducted by a police officer who was either the arresting officer or the complainant, on the understanding that the extent of such consent is clearly defined and that the police officer reports any such prosecutions to the District Attorney. The delegation to a police officer of authority to prosecute does not in and of itself confer the power to consent or withhold consent to a plea to a petty offense other than that charged in the accusatory instrument. His powers are limited to those specifically delegated to him by the District Attorney. The power to prosecute does not imply the power to consent to the acceptance of a reduced plea. The question was considered in Matter of Blumberg v Lennon, 44 A.D.2d 769 (4th Dept, 1974), where the court said: \"[T]he statutory requirement of consent by the People to the acceptance of a reduced plea can hardly be obtained by estoppel against the District Attorney on the basis of his alleged negligence or indifference. Even an express consent by the District Attorney to the acceptance of such a reduced plea in one case (and there is no assertion that the District Attorney has ever so consented in a case of this sort) would be no indication of his consent to accept such a plea in another case. * * * In the absence of express consent by the District Attorney to the acceptance of a reduced plea in a specific case, the court is without jurisdiction to accept such a plea.\" This does not mean, however, that the District Attorney when informed of all of the facts cannot delegate to the prosecuting police officer the ministerial duty of consenting to a reduced plea in a particular case.'"
      ]
     },
     "execution_count": 54,
     "metadata": {},
     "output_type": "execute_result"
    }
   ],
   "source": [
    "manual_review.iloc[4][\"opinion\"]"
   ]
  }
 ],
 "metadata": {
  "kernelspec": {
   "display_name": "Python 3 (ipykernel)",
   "language": "python",
   "name": "python3"
  },
  "language_info": {
   "codemirror_mode": {
    "name": "ipython",
    "version": 3
   },
   "file_extension": ".py",
   "mimetype": "text/x-python",
   "name": "python",
   "nbconvert_exporter": "python",
   "pygments_lexer": "ipython3",
   "version": "3.10.16"
  }
 },
 "nbformat": 4,
 "nbformat_minor": 5
}
