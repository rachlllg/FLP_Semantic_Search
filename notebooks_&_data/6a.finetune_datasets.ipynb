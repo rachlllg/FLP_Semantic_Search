{
 "cells": [
  {
   "cell_type": "markdown",
   "id": "b2d455d9-97b4-4ee7-8863-a31f0b6ac28b",
   "metadata": {},
   "source": [
    "# Generate dataset used for finetuning\n",
    "\n",
    "This notebook outlines the steps undertook to generate the dataset used for finetuning. We already generated the train vs test datasets previously (and had not used the train dataset for any experiments so far), we want to ensure there is no dataleakage between the train and test datasets on opinion, cluster, and docket level."
   ]
  },
  {
   "cell_type": "markdown",
   "id": "ac34f08b-a3b6-44d2-a92e-88c58bf36fba",
   "metadata": {},
   "source": [
    "# Import libraries"
   ]
  },
  {
   "cell_type": "code",
   "execution_count": 1,
   "id": "e4beceff-5b7f-451f-8602-d226080fb768",
   "metadata": {},
   "outputs": [],
   "source": [
    "import pandas as pd"
   ]
  },
  {
   "cell_type": "markdown",
   "id": "2d25506c-6037-4bb8-8621-2890e1c34dff",
   "metadata": {},
   "source": [
    "# Load the datasets"
   ]
  },
  {
   "cell_type": "code",
   "execution_count": 2,
   "id": "42f3cb7b-2f44-47fe-9a3e-7d0869cae61a",
   "metadata": {},
   "outputs": [],
   "source": [
    "train = pd.read_csv(\"outputs/3.train.csv\")\n",
    "test = pd.read_csv(\"outputs/3.test.csv\")"
   ]
  },
  {
   "cell_type": "markdown",
   "id": "e8b32775-b252-4452-a311-233889a88ba7",
   "metadata": {},
   "source": [
    "# Check for possible leakage"
   ]
  },
  {
   "cell_type": "code",
   "execution_count": 3,
   "id": "04115899-5a86-4407-86d1-e255bac53067",
   "metadata": {
    "scrolled": true
   },
   "outputs": [
    {
     "name": "stdout",
     "output_type": "stream",
     "text": [
      "0\n",
      "113\n",
      "0\n",
      "0\n"
     ]
    }
   ],
   "source": [
    "print(len(train[train[\"docket_id\"].isin(test[\"docket_id\"])]))\n",
    "print(len(train[train[\"docket_number\"].isin(test[\"docket_number\"])]))\n",
    "print(len(train[train[\"cluster_id\"].isin(test[\"cluster_id\"])]))\n",
    "print(len(train[train[\"opinion_id\"].isin(test[\"opinion_id\"])]))"
   ]
  },
  {
   "cell_type": "code",
   "execution_count": 4,
   "id": "cb8a499f-7f34-42f5-bbc9-f937ea29ef49",
   "metadata": {
    "scrolled": true
   },
   "outputs": [
    {
     "name": "stdout",
     "output_type": "stream",
     "text": [
      "0\n",
      "103\n",
      "0\n",
      "0\n"
     ]
    }
   ],
   "source": [
    "print(len(test[test[\"docket_id\"].isin(train[\"docket_id\"])]))\n",
    "print(len(test[test[\"docket_number\"].isin(train[\"docket_number\"])]))\n",
    "print(len(test[test[\"cluster_id\"].isin(train[\"cluster_id\"])]))\n",
    "print(len(test[test[\"opinion_id\"].isin(train[\"opinion_id\"])]))"
   ]
  },
  {
   "cell_type": "markdown",
   "id": "aa3e5065-4795-428a-9993-866761c9ed3f",
   "metadata": {},
   "source": [
    "# Resolve leakage and generate validation set"
   ]
  },
  {
   "cell_type": "code",
   "execution_count": 5,
   "id": "299b9a0b-f6ec-48cd-a7a6-0ba58968d0c8",
   "metadata": {},
   "outputs": [
    {
     "data": {
      "text/plain": [
       "113"
      ]
     },
     "execution_count": 5,
     "metadata": {},
     "output_type": "execute_result"
    }
   ],
   "source": [
    "val = train[train[\"docket_number\"].isin(test[\"docket_number\"])]\n",
    "len(val)"
   ]
  },
  {
   "cell_type": "code",
   "execution_count": 6,
   "id": "d8bd51ea-e74e-4343-91b9-99c9cec9029b",
   "metadata": {},
   "outputs": [
    {
     "data": {
      "text/plain": [
       "390"
      ]
     },
     "execution_count": 6,
     "metadata": {},
     "output_type": "execute_result"
    }
   ],
   "source": [
    "train = train[~train[\"docket_number\"].isin(test[\"docket_number\"])]\n",
    "len(train)"
   ]
  },
  {
   "cell_type": "code",
   "execution_count": 7,
   "id": "c624e997-682a-4fa8-814d-86b945f293d2",
   "metadata": {},
   "outputs": [
    {
     "data": {
      "text/plain": [
       "450"
      ]
     },
     "execution_count": 7,
     "metadata": {},
     "output_type": "execute_result"
    }
   ],
   "source": [
    "len(test)"
   ]
  },
  {
   "cell_type": "markdown",
   "id": "ffd37a0b-8958-476f-8c95-bb3bbca18710",
   "metadata": {},
   "source": [
    "In practice, we may want the test set to be of similar size to the validation set, but since we had already generated the test set for prior experiments, to ensure consistent metric measurements, we held the test set as is."
   ]
  },
  {
   "cell_type": "markdown",
   "id": "34b8cd94-47cd-434c-8e0b-e85420079b28",
   "metadata": {},
   "source": [
    "# Confirm no leakage"
   ]
  },
  {
   "cell_type": "code",
   "execution_count": 8,
   "id": "10392c14-129c-4a97-8e33-81f919392c98",
   "metadata": {},
   "outputs": [],
   "source": [
    "assert len(train[train[\"docket_id\"].isin(test[\"docket_id\"])]) == 0\n",
    "assert len(train[train[\"docket_number\"].isin(test[\"docket_number\"])]) == 0\n",
    "assert len(train[train[\"cluster_id\"].isin(test[\"cluster_id\"])]) == 0\n",
    "assert len(train[train[\"opinion_id\"].isin(test[\"opinion_id\"])]) == 0"
   ]
  },
  {
   "cell_type": "code",
   "execution_count": 9,
   "id": "105c598f-9e6d-4bfa-8e0c-2ea4425bba4c",
   "metadata": {},
   "outputs": [],
   "source": [
    "assert len(train[train[\"docket_id\"].isin(val[\"docket_id\"])]) == 0\n",
    "assert len(train[train[\"docket_number\"].isin(val[\"docket_number\"])]) == 0\n",
    "assert len(train[train[\"cluster_id\"].isin(val[\"cluster_id\"])]) == 0\n",
    "assert len(train[train[\"opinion_id\"].isin(val[\"opinion_id\"])]) == 0"
   ]
  },
  {
   "cell_type": "code",
   "execution_count": 10,
   "id": "02e30db3-68f5-4675-9ac1-1435c2eaafdd",
   "metadata": {},
   "outputs": [],
   "source": [
    "assert len(test[test[\"docket_id\"].isin(train[\"docket_id\"])]) == 0\n",
    "assert len(test[test[\"docket_number\"].isin(train[\"docket_number\"])]) == 0\n",
    "assert len(test[test[\"cluster_id\"].isin(train[\"cluster_id\"])]) == 0\n",
    "assert len(test[test[\"opinion_id\"].isin(train[\"opinion_id\"])]) == 0"
   ]
  },
  {
   "cell_type": "code",
   "execution_count": 11,
   "id": "039d79b1-ecc0-4329-a235-17905e1353b9",
   "metadata": {},
   "outputs": [],
   "source": [
    "assert len(val[val[\"docket_id\"].isin(train[\"docket_id\"])]) == 0\n",
    "assert len(val[val[\"docket_number\"].isin(train[\"docket_number\"])]) == 0\n",
    "assert len(val[val[\"cluster_id\"].isin(train[\"cluster_id\"])]) == 0\n",
    "assert len(val[val[\"opinion_id\"].isin(train[\"opinion_id\"])]) == 0"
   ]
  },
  {
   "cell_type": "markdown",
   "id": "ccfa3dbe-fb04-40b4-abe7-476aac04e0c6",
   "metadata": {},
   "source": [
    "# Remove records that have fewer than 100 tokens (or ~50 words) as they do not have enough meaningful context for retrieval"
   ]
  },
  {
   "cell_type": "code",
   "execution_count": 13,
   "id": "badd2f73-6711-4a01-a36d-ab310808761d",
   "metadata": {},
   "outputs": [
    {
     "data": {
      "text/plain": [
       "315"
      ]
     },
     "execution_count": 13,
     "metadata": {},
     "output_type": "execute_result"
    }
   ],
   "source": [
    "train = train[train[\"opinion_word_count\"] > 50]\n",
    "len(train)"
   ]
  },
  {
   "cell_type": "code",
   "execution_count": 14,
   "id": "838b60fe-583e-4bc6-bbba-04decf7d43b9",
   "metadata": {},
   "outputs": [
    {
     "data": {
      "text/plain": [
       "93"
      ]
     },
     "execution_count": 14,
     "metadata": {},
     "output_type": "execute_result"
    }
   ],
   "source": [
    "val = val[val[\"opinion_word_count\"] > 50]\n",
    "len(val)"
   ]
  },
  {
   "cell_type": "code",
   "execution_count": 15,
   "id": "2925f37f-96c7-4338-a372-33ec5ae9d920",
   "metadata": {},
   "outputs": [
    {
     "data": {
      "text/plain": [
       "362"
      ]
     },
     "execution_count": 15,
     "metadata": {},
     "output_type": "execute_result"
    }
   ],
   "source": [
    "test = test[test[\"opinion_word_count\"] > 50]\n",
    "len(test)"
   ]
  },
  {
   "cell_type": "markdown",
   "id": "35e3508e-c3c0-4a7f-9d08-e173556e974e",
   "metadata": {},
   "source": [
    "# Save the dataset for future use"
   ]
  },
  {
   "cell_type": "code",
   "execution_count": 16,
   "id": "b1b73599-500d-4c34-9cf4-03ec7e63dc7a",
   "metadata": {},
   "outputs": [],
   "source": [
    "train.to_csv(\"outputs/4.finetune_train.csv\", index=False)\n",
    "val.to_csv(\"outputs/4.finetune_val.csv\", index=False)\n",
    "test.to_csv(\"outputs/4.finetune_test.csv\", index=False)"
   ]
  }
 ],
 "metadata": {
  "kernelspec": {
   "display_name": "Python 3 (ipykernel)",
   "language": "python",
   "name": "python3"
  },
  "language_info": {
   "codemirror_mode": {
    "name": "ipython",
    "version": 3
   },
   "file_extension": ".py",
   "mimetype": "text/x-python",
   "name": "python",
   "nbconvert_exporter": "python",
   "pygments_lexer": "ipython3",
   "version": "3.10.16"
  }
 },
 "nbformat": 4,
 "nbformat_minor": 5
}
